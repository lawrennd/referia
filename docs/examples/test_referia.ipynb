{
 "cells": [
  {
   "cell_type": "code",
   "execution_count": 1,
   "id": "fd937e16-a0d6-43d5-93d3-b0bc9e0ef8ba",
   "metadata": {},
   "outputs": [],
   "source": [
    "#%pip install ipytest"
   ]
  },
  {
   "cell_type": "code",
   "execution_count": 2,
   "id": "ab174bee-5252-456d-8d18-c16114744198",
   "metadata": {},
   "outputs": [],
   "source": [
    "import ipytest\n",
    "ipytest.autoconfig()\n",
    "#pytest.config(addopts=['-W error::DeprecationWarning'])\n"
   ]
  },
  {
   "cell_type": "code",
   "execution_count": 3,
   "id": "2ce12a90-a835-4103-adc4-ec4ab7c91915",
   "metadata": {},
   "outputs": [
    {
     "name": "stdout",
     "output_type": "stream",
     "text": [
      "/Users/neil/lawrennd/referia/referia/tests\n"
     ]
    },
    {
     "name": "stderr",
     "output_type": "stream",
     "text": [
      "/opt/anaconda3/envs/py311/lib/python3.11/site-packages/IPython/core/magics/osm.py:417: UserWarning: This is now an optional IPython functionality, setting dhist requires you to install the `pickleshare` library.\n",
      "  self.shell.db['dhist'] = compress_dhist(dhist)[-100:]\n"
     ]
    }
   ],
   "source": [
    "cd /Users/neil/lawrennd/referia/referia/tests"
   ]
  },
  {
   "cell_type": "code",
   "execution_count": 4,
   "id": "f660a959-acbe-4568-85c8-dbee9bcb296d",
   "metadata": {},
   "outputs": [],
   "source": [
    "from test_assess_data import *"
   ]
  },
  {
   "cell_type": "code",
   "execution_count": 5,
   "id": "bcd61aaa-b0db-4e3a-b2c0-24c606eaa028",
   "metadata": {},
   "outputs": [
    {
     "name": "stdout",
     "output_type": "stream",
     "text": [
      "\u001b[32m.\u001b[0m\u001b[33m                                                                                            [100%]\u001b[0m\n",
      "\u001b[33m========================================= warnings summary =========================================\u001b[0m\n",
      "../../../../../../opt/anaconda3/envs/py311/lib/python3.11/site-packages/_pytest/config/__init__.py:1114\n",
      "  /opt/anaconda3/envs/py311/lib/python3.11/site-packages/_pytest/config/__init__.py:1114: PytestAssertRewriteWarning: Module already imported so cannot be rewritten: mimesis\n",
      "    self._mark_plugins_for_rewrite(hook)\n",
      "\n",
      "-- Docs: https://docs.pytest.org/en/stable/warnings.html\n",
      "\u001b[33m\u001b[32m1 passed\u001b[0m, \u001b[33m\u001b[1m1 warning\u001b[0m\u001b[33m in 0.01s\u001b[0m\u001b[0m\n"
     ]
    }
   ],
   "source": [
    "%%ipytest\n",
    "# %load -s test_from_flow_with_valid_select_settings test_assess_data.py\n",
    "def test_from_flow_with_valid_select_settings(valid_local_select_settings):\n",
    "    cdf = referia.assess.data.CustomDataFrame.from_flow(valid_local_select_settings)\n",
    "    assert isinstance(cdf, referia.assess.data.CustomDataFrame)\n",
    "    assert cdf == referia.assess.data.CustomDataFrame(pd.DataFrame({'key1': 'value1row2', 'key2' : 'value2row2', 'key3': 'value3row2'}, index=[0]))\n",
    "    assert cdf.colspecs == {\"parameters\" : [\"key1\", \"key2\", \"key3\"]}\n"
   ]
  },
  {
   "cell_type": "code",
   "execution_count": 6,
   "id": "769b172e-0f24-45ed-9459-5c697fd9c6d3",
   "metadata": {},
   "outputs": [],
   "source": [
    "%debug"
   ]
  },
  {
   "cell_type": "code",
   "execution_count": 7,
   "id": "a05a9a45-c34a-477a-9f78-c02a35fd7bad",
   "metadata": {},
   "outputs": [],
   "source": [
    "import pandas as pd\n"
   ]
  },
  {
   "cell_type": "code",
   "execution_count": 8,
   "id": "010e1c6e-1472-4664-bc9b-e326ea5dad6c",
   "metadata": {},
   "outputs": [],
   "source": [
    "from ipywidgets import widgets"
   ]
  },
  {
   "cell_type": "code",
   "execution_count": 9,
   "id": "5a33aa30-3733-40dc-80bf-0ed9bd7fd0f2",
   "metadata": {},
   "outputs": [
    {
     "data": {
      "text/plain": [
       "\u001b[0;31mType:\u001b[0m        module\n",
       "\u001b[0;31mString form:\u001b[0m <module 'ipywidgets.widgets.widget' from '/opt/anaconda3/envs/py311/lib/python3.11/site-packages/ipywidgets/widgets/widget.py'>\n",
       "\u001b[0;31mFile:\u001b[0m        /opt/anaconda3/envs/py311/lib/python3.11/site-packages/ipywidgets/widgets/widget.py\n",
       "\u001b[0;31mDocstring:\u001b[0m  \n",
       "Base Widget class.  Allows user to create widgets in the back-end that render\n",
       "in the Jupyter notebook front-end."
      ]
     },
     "metadata": {},
     "output_type": "display_data"
    }
   ],
   "source": [
    "widgets.widget?"
   ]
  },
  {
   "cell_type": "code",
   "execution_count": 10,
   "id": "9f8d3888-73f7-40a1-b9ed-fa08d84a9ecf",
   "metadata": {},
   "outputs": [
    {
     "name": "stdout",
     "output_type": "stream",
     "text": [
      "                                 familyName givenName prefix suffix  \\\n",
      "fullName                                                              \n",
      "Xing_Pei                               Xing       Pei   None   None   \n",
      "Venkatasubramanian_Siva  Venkatasubramanian      Siva   None   None   \n",
      "Paz_Luiz_Miguel                    Paz Luiz    Miguel   None   None   \n",
      "\n",
      "                         accessDate  \n",
      "fullName                             \n",
      "Xing_Pei                 2024-08-16  \n",
      "Venkatasubramanian_Siva  2024-08-16  \n",
      "Paz_Luiz_Miguel          2024-08-16  \n"
     ]
    }
   ],
   "source": [
    "import yaml\n",
    "from lynguine.config.interface import Interface\n",
    "from lynguine.assess.data import CustomDataFrame\n",
    "\n",
    "# Let's assume this is the text stored in the interface file\n",
    "yaml_text = \"\"\"input:\n",
    "  type: local\n",
    "  index: fullName\n",
    "  add_columns:  # These columns are added if they aren't present.\n",
    "  - prefix\n",
    "  - suffix\n",
    "  data:\n",
    "  - familyName: Xing\n",
    "    givenName: Pei\n",
    "  - familyName: Venkatasubramanian\n",
    "    givenName: Siva\n",
    "  - familyName: Paz Luiz\n",
    "    givenName: Miguel\n",
    "  compute:  # compute is used for preprocessing as data is loaded\n",
    "  - field: fullName # the field fullName is created from this compute command\n",
    "    function: render_liquid\n",
    "    args: # keyword arguments to pass to the function\n",
    "      template: \"{% capture index %}{% if prefix %}{{ prefix }} {%endif%}{%if familyName %}{{ familyName }} {%endif%}{% if suffix %}{{ suffix }} {%endif%}{%if givenName %}{{ givenName }}{%endif%}{% endcapture %}{{ index | replace: ' ', '_' | replace: '.', '' }}\"\n",
    "    row_args: # arguments are taken from the same row\n",
    "      givenName: givenName \n",
    "      familyName: familyName\n",
    "  - field: accessDate\n",
    "    function: today\"\"\"\n",
    "\n",
    "interface = Interface.from_yaml(yaml_text)\n",
    "\n",
    "data = CustomDataFrame.from_flow(interface)\n",
    "print(data)"
   ]
  },
  {
   "cell_type": "code",
   "execution_count": 11,
   "id": "cc98647f-93fe-4293-a390-37f9fef1fcb6",
   "metadata": {},
   "outputs": [
    {
     "name": "stdout",
     "output_type": "stream",
     "text": [
      "                                 familyName givenName prefix suffix  \\\n",
      "name                                                                  \n",
      "Xing_Pei                               Xing       Pei   None   None   \n",
      "Venkatasubramanian_Siva  Venkatasubramanian      Siva   None   None   \n",
      "Paz_Luiz_Miguel                    Paz Luiz    Miguel   None   None   \n",
      "\n",
      "                         accessDate  \n",
      "name                                 \n",
      "Xing_Pei                 2024-08-16  \n",
      "Venkatasubramanian_Siva  2024-08-16  \n",
      "Paz_Luiz_Miguel          2024-08-16  \n"
     ]
    }
   ],
   "source": [
    "import yaml\n",
    "from lynguine.config.interface import Interface\n",
    "from lynguine.assess.data import CustomDataFrame\n",
    "\n",
    "# Let's assume this is the text stored in the interface file\n",
    "yaml_text = \"\"\"input:\n",
    "  type: local\n",
    "  index: name\n",
    "  add_columns:  # These columns are added if they aren't present.\n",
    "  - prefix\n",
    "  - suffix\n",
    "  ignore_columns: # These columns are ignored even if they're present\n",
    "  - email\n",
    "  rename_columns:\n",
    "    family: familyName\n",
    "    given: givenName\n",
    "  data:\n",
    "  - family: Xing\n",
    "    given: Pei\n",
    "    email: pei@uni-got.ac.de\n",
    "  - family: Venkatasubramanian\n",
    "    given: Siva\n",
    "    email: siva@microserve.com\n",
    "  - family: Paz Luiz\n",
    "    given: Miguel\n",
    "    email: miguel@birkingham.ac.uk\n",
    "  compute:  # compute is used for preprocessing as data is loaded\n",
    "  - field: name # the field name is created from this compute command\n",
    "    function: render_liquid\n",
    "    args: # keyword arguments to pass to the function\n",
    "      template: \"{% capture index %}{% if prefix %}{{ prefix }} {%endif%}{%if familyName %}{{ familyName }} {%endif%}{% if suffix %}{{ suffix }} {%endif%}{%if givenName %}{{ givenName }}{%endif%}{% endcapture %}{{ index | replace: ' ', '_' | replace: '.', '' }}\" # This is a liquid template to create an index from the name\n",
    "    row_args: # arguments are taken from the same row\n",
    "      givenName: givenName \n",
    "      familyName: familyName\n",
    "  - field: accessDate\n",
    "    function: today\"\"\"\n",
    "\n",
    "interface = Interface.from_yaml(yaml_text)\n",
    "\n",
    "data = CustomDataFrame.from_flow(interface)\n",
    "print(data)"
   ]
  },
  {
   "cell_type": "code",
   "execution_count": null,
   "id": "b9ff442f-0559-4b76-bbff-82a8df70136d",
   "metadata": {},
   "outputs": [],
   "source": []
  }
 ],
 "metadata": {
  "kernelspec": {
   "display_name": "Python 3 (ipykernel)",
   "language": "python",
   "name": "python3"
  },
  "language_info": {
   "codemirror_mode": {
    "name": "ipython",
    "version": 3
   },
   "file_extension": ".py",
   "mimetype": "text/x-python",
   "name": "python",
   "nbconvert_exporter": "python",
   "pygments_lexer": "ipython3",
   "version": "3.11.8"
  }
 },
 "nbformat": 4,
 "nbformat_minor": 5
}
