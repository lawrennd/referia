{
 "cells": [
  {
   "cell_type": "markdown",
   "id": "98bf38a3",
   "metadata": {},
   "source": [
    "# Gift Assessment Notebook\n",
    "\n",
    "### 28th December 2021\n",
    "\n",
    "### Neil D. Lawrence\n",
    "\n",
    "This notebook is for demonstrating how the referia assessment system works.\n"
   ]
  },
  {
   "cell_type": "code",
   "execution_count": 1,
   "id": "3d81c9b5",
   "metadata": {},
   "outputs": [],
   "source": [
    "import referia as rf"
   ]
  },
  {
   "cell_type": "code",
   "execution_count": 9,
   "id": "30a95862",
   "metadata": {},
   "outputs": [
    {
     "data": {
      "application/vnd.jupyter.widget-view+json": {
       "model_id": "677d1fe389f142eb9f6ee97f1c13f984",
       "version_major": 2,
       "version_minor": 0
      },
      "text/plain": [
       "HTML(value='')"
      ]
     },
     "metadata": {},
     "output_type": "display_data"
    }
   ],
   "source": [
    "rf.display.expand_cell()"
   ]
  },
  {
   "cell_type": "code",
   "execution_count": 3,
   "id": "3f2a9043",
   "metadata": {},
   "outputs": [],
   "source": [
    "data = rf.assess.Data()"
   ]
  },
  {
   "cell_type": "code",
   "execution_count": 4,
   "id": "650de7a6",
   "metadata": {},
   "outputs": [],
   "source": [
    "index=data.index[0]"
   ]
  },
  {
   "cell_type": "code",
   "execution_count": 10,
   "id": "a898e7f4",
   "metadata": {
    "scrolled": true
   },
   "outputs": [
    {
     "data": {
      "application/vnd.jupyter.widget-view+json": {
       "model_id": "829e7053370b4b62b84f77c5a90caea5",
       "version_major": 2,
       "version_minor": 0
      },
      "text/plain": [
       "interactive(children=(Dropdown(description='index', options=('G001', 'G002', 'G003', 'G004', 'G005', 'G006', '…"
      ]
     },
     "metadata": {},
     "output_type": "display_data"
    }
   ],
   "source": [
    "rf.display.score(index)"
   ]
  },
  {
   "cell_type": "code",
   "execution_count": 6,
   "id": "cdaa3085",
   "metadata": {},
   "outputs": [],
   "source": [
    "%debug"
   ]
  },
  {
   "cell_type": "code",
   "execution_count": 8,
   "id": "313b345e",
   "metadata": {},
   "outputs": [
    {
     "data": {
      "text/plain": [
       "{'_Thoughtfulness_Criterion': HTML(value='<h4>Gift Thoughtfulness</h4> <p>How thoughtful was the gift, does it match who you are?</p>', description=' ', layout=Layout(width='800px')),\n",
       " 'Thoughtfulness_Comment': Textarea(value='Very thoughtful', description='Comment', layout=Layout(width='800px')),\n",
       " 'Thoughtfulness_Expectation': Dropdown(description='Expectation', index=1, options=('', 'Raises', 'Meets', 'Lowers'), value='Raises'),\n",
       " '_Expense_Criterion': HTML(value='<h4>Gift Expense</h4> <p>How expensive was the gift?</p>', description=' ', layout=Layout(width='800px')),\n",
       " 'Expense_Comment': Textarea(value='', description='Comment', layout=Layout(width='800px')),\n",
       " 'Expense_Expectation': Dropdown(description='Expectation', options=('', 'Raises', 'Meets', 'Lowers'), value=None),\n",
       " '_Overall_Criterion': HTML(value='<h4>Overall</h4>', description=' ', layout=Layout(width='800px')),\n",
       " 'Overall_Comment': Textarea(value='Nice', description='Comment', layout=Layout(width='800px')),\n",
       " 'Overall_Score': FloatSlider(value=5.0, description='Score', layout=Layout(width='800px'), max=10.0, step=1.0),\n",
       " '_Other_Criterion': HTML(value='<h4>Other Comments</h4>', description=' ', layout=Layout(width='800px')),\n",
       " 'Other_Comment': Textarea(value='', description='Comment', layout=Layout(width='800px'))}"
      ]
     },
     "execution_count": 8,
     "metadata": {},
     "output_type": "execute_result"
    },
    {
     "name": "stdout",
     "output_type": "stream",
     "text": [
      "The history saving thread hit an unexpected error (OperationalError('attempt to write a readonly database')).History will not be written to the database.\n"
     ]
    }
   ],
   "source": [
    "rf.display.INTERACT_ARGS"
   ]
  },
  {
   "cell_type": "markdown",
   "id": "77f61f65",
   "metadata": {},
   "source": [
    "### "
   ]
  }
 ],
 "metadata": {
  "kernelspec": {
   "display_name": "Python 3",
   "language": "python",
   "name": "python3"
  },
  "language_info": {
   "codemirror_mode": {
    "name": "ipython",
    "version": 3
   },
   "file_extension": ".py",
   "mimetype": "text/x-python",
   "name": "python",
   "nbconvert_exporter": "python",
   "pygments_lexer": "ipython3",
   "version": "3.8.8"
  }
 },
 "nbformat": 4,
 "nbformat_minor": 5
}
