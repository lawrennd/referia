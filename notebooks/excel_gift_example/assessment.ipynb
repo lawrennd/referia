{
 "cells": [
  {
   "cell_type": "markdown",
   "id": "98bf38a3",
   "metadata": {},
   "source": [
    "# Gift Assessment Notebook\n",
    "\n",
    "### 28th December 2021\n",
    "\n",
    "### Neil D. Lawrence\n",
    "\n",
    "This notebook is for demonstrating how the referia assessment system works.\n"
   ]
  },
  {
   "cell_type": "code",
   "execution_count": 1,
   "id": "3d81c9b5",
   "metadata": {},
   "outputs": [],
   "source": [
    "import referia as rf"
   ]
  },
  {
   "cell_type": "code",
   "execution_count": 2,
   "id": "30a95862",
   "metadata": {},
   "outputs": [
    {
     "data": {
      "text/html": [
       "\n",
       "<style>\n",
       ".container {\n",
       "    width: 100% !important;\n",
       "}   \n",
       "\n",
       "div.notebook-container {\n",
       "    width: 100% !important;\n",
       "    height: fit-content;\n",
       "}  \n",
       "\n",
       "div.menubar-container {\n",
       "    width: 100% !important;\n",
       "    height: fit-content;\n",
       "}  \n",
       "\n",
       "div.maintoolbar-container {\n",
       "    width: 100% !important;\n",
       "    height: fit-content;\n",
       "}  \n",
       "\n",
       "div.cell.selected {\n",
       "    border-left-width: 1px !important;  \n",
       "}\n",
       "\n",
       "div.output_scroll {\n",
       "    resize: vertical !important;\n",
       "}\n",
       "\n",
       ".output_wrapper .output { \n",
       "    overflow-y: visible; \n",
       "    height: fit-content; \n",
       "}\n",
       "\n",
       "\n",
       ".output_scroll {\n",
       "    box-shadow:none !important;\n",
       "    webkit-box-shadow:none !important;\n",
       "}\n",
       "</style>\n"
      ],
      "text/plain": [
       "<IPython.core.display.HTML object>"
      ]
     },
     "metadata": {},
     "output_type": "display_data"
    }
   ],
   "source": [
    "rf.display.expand_cell()"
   ]
  },
  {
   "cell_type": "code",
   "execution_count": 3,
   "id": "3f2a9043",
   "metadata": {},
   "outputs": [],
   "source": [
    "data = rf.assess.Data()"
   ]
  },
  {
   "cell_type": "code",
   "execution_count": 4,
   "id": "650de7a6",
   "metadata": {},
   "outputs": [],
   "source": [
    "index=data.index[0]"
   ]
  },
  {
   "cell_type": "code",
   "execution_count": 5,
   "id": "12553e95",
   "metadata": {},
   "outputs": [
    {
     "data": {
      "text/plain": [
       "{'index': 'keyname',\n",
       " 'type': 'excel',\n",
       " 'sheet': 'Sheet1',\n",
       " 'directory': None,\n",
       " 'filename': 'scores.xlsx',\n",
       " 'header': 0}"
      ]
     },
     "execution_count": 5,
     "metadata": {},
     "output_type": "execute_result"
    }
   ],
   "source": [
    "rf.display.config[\"scores\"]"
   ]
  },
  {
   "cell_type": "code",
   "execution_count": 6,
   "id": "a898e7f4",
   "metadata": {
    "scrolled": true
   },
   "outputs": [
    {
     "data": {
      "application/vnd.jupyter.widget-view+json": {
       "model_id": "ffb454e7a1934cd0a529657ee5d1adc5",
       "version_major": 2,
       "version_minor": 0
      },
      "text/plain": [
       "interactive(children=(Dropdown(description='value', options=('G001', 'G002', 'G003', 'G004', 'G005', 'G006', '…"
      ]
     },
     "metadata": {},
     "output_type": "display_data"
    },
    {
     "data": {
      "application/vnd.jupyter.widget-view+json": {
       "model_id": "e9dbccae91e144d3a9468e7fb3e298f1",
       "version_major": 2,
       "version_minor": 0
      },
      "text/plain": [
       "interactive(children=(HTMLMath(value='<p>9 to go. Scored 3 from 12 which is 25%</p>', description=' '), HTMLMa…"
      ]
     },
     "metadata": {},
     "output_type": "display_data"
    }
   ],
   "source": [
    "scorer = rf.display.Scorer(index, data)\n",
    "scorer.run()"
   ]
  },
  {
   "cell_type": "markdown",
   "id": "77f61f65",
   "metadata": {},
   "source": [
    "### "
   ]
  },
  {
   "cell_type": "code",
   "execution_count": 7,
   "id": "94f34691",
   "metadata": {},
   "outputs": [
    {
     "data": {
      "text/plain": [
       "{'_progress_label': <referia.widgets.FieldWidget at 0x7fb37ace66d0>,\n",
       " '_viewer_label': <referia.widgets.FieldWidget at 0x7fb37e231e80>,\n",
       " '_Thoughtfulness_Criterion': <referia.widgets.FieldWidget at 0x7fb37e27d250>,\n",
       " 'Thoughtfulness_Comment': <referia.widgets.FieldWidget at 0x7fb37e27de50>,\n",
       " 'Thoughtfulness_Expectation': <referia.widgets.FieldWidget at 0x7fb37e27d880>,\n",
       " '_Expense_Criterion': <referia.widgets.FieldWidget at 0x7fb37e2b6310>,\n",
       " 'Expense_Comment': <referia.widgets.FieldWidget at 0x7fb37e2b6850>,\n",
       " 'Expense_Expectation': <referia.widgets.FieldWidget at 0x7fb37e27d8e0>,\n",
       " '_Overall_Criterion': <referia.widgets.FieldWidget at 0x7fb37e2b65b0>,\n",
       " 'Overall_Comment': <referia.widgets.FieldWidget at 0x7fb37e2c8c70>,\n",
       " 'Overall_Score': <referia.widgets.FieldWidget at 0x7fb37e2c8d00>,\n",
       " '_Other_Criterion': <referia.widgets.FieldWidget at 0x7fb37e2b6c70>,\n",
       " 'Other_Comment': <referia.widgets.FieldWidget at 0x7fb37e2c88b0>}"
      ]
     },
     "execution_count": 7,
     "metadata": {},
     "output_type": "execute_result"
    }
   ],
   "source": [
    "scorer.widgets()"
   ]
  },
  {
   "cell_type": "code",
   "execution_count": null,
   "id": "b5112d0a",
   "metadata": {},
   "outputs": [],
   "source": []
  }
 ],
 "metadata": {
  "kernelspec": {
   "display_name": "Python 3",
   "language": "python",
   "name": "python3"
  },
  "language_info": {
   "codemirror_mode": {
    "name": "ipython",
    "version": 3
   },
   "file_extension": ".py",
   "mimetype": "text/x-python",
   "name": "python",
   "nbconvert_exporter": "python",
   "pygments_lexer": "ipython3",
   "version": "3.8.8"
  }
 },
 "nbformat": 4,
 "nbformat_minor": 5
}
