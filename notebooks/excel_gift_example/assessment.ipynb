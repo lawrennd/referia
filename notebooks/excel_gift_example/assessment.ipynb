{
 "cells": [
  {
   "cell_type": "markdown",
   "id": "98bf38a3",
   "metadata": {},
   "source": [
    "# Gift Assessment Notebook\n",
    "\n",
    "### 28th December 2021\n",
    "\n",
    "### Neil D. Lawrence\n",
    "\n",
    "This notebook is for demonstrating how the referia assessment system works.\n"
   ]
  },
  {
   "cell_type": "code",
   "execution_count": 1,
   "id": "3d81c9b5",
   "metadata": {},
   "outputs": [],
   "source": [
    "import referia as rf"
   ]
  },
  {
   "cell_type": "code",
   "execution_count": 2,
   "id": "30a95862",
   "metadata": {},
   "outputs": [
    {
     "data": {
      "text/html": [
       "\n",
       "<style>\n",
       ".container {\n",
       "    width: 100% !important;\n",
       "}   \n",
       "\n",
       "div.notebook-container {\n",
       "    width: 100% !important;\n",
       "    height: fit-content;\n",
       "}  \n",
       "\n",
       "div.menubar-container {\n",
       "    width: 100% !important;\n",
       "    height: fit-content;\n",
       "}  \n",
       "\n",
       "div.maintoolbar-container {\n",
       "    width: 100% !important;\n",
       "    height: fit-content;\n",
       "}  \n",
       "\n",
       "div.cell.selected {\n",
       "    border-left-width: 1px !important;  \n",
       "}\n",
       "\n",
       "div.output_scroll {\n",
       "    resize: vertical !important;\n",
       "}\n",
       "\n",
       ".output_wrapper .output { \n",
       "    overflow-y: visible; \n",
       "    height: fit-content; \n",
       "}\n",
       "\n",
       "\n",
       ".output_scroll {\n",
       "    box-shadow:none !important;\n",
       "    webkit-box-shadow:none !important;\n",
       "}\n",
       "</style>\n"
      ],
      "text/plain": [
       "<IPython.core.display.HTML object>"
      ]
     },
     "metadata": {},
     "output_type": "display_data"
    }
   ],
   "source": [
    "rf.display.expand_cell()"
   ]
  },
  {
   "cell_type": "code",
   "execution_count": 3,
   "id": "3f2a9043",
   "metadata": {},
   "outputs": [],
   "source": [
    "data = rf.assess.Data()"
   ]
  },
  {
   "cell_type": "code",
   "execution_count": 4,
   "id": "650de7a6",
   "metadata": {},
   "outputs": [],
   "source": [
    "index=data.index[0]"
   ]
  },
  {
   "cell_type": "code",
   "execution_count": 5,
   "id": "a898e7f4",
   "metadata": {
    "scrolled": true
   },
   "outputs": [
    {
     "data": {
      "application/vnd.jupyter.widget-view+json": {
       "model_id": "592cdba5a27a42339247ddbe549b9f97",
       "version_major": 2,
       "version_minor": 0
      },
      "text/plain": [
       "Dropdown(options=('G001', 'G002', 'G003', 'G004', 'G005', 'G006', 'G007', 'G008', 'G009', 'G010', 'G011', 'G01…"
      ]
     },
     "metadata": {},
     "output_type": "display_data"
    },
    {
     "data": {
      "application/vnd.jupyter.widget-view+json": {
       "model_id": "fe0f377da3a64e818536c031da9cf186",
       "version_major": 2,
       "version_minor": 0
      },
      "text/plain": [
       "Button(description='Reload Flows', style=ButtonStyle())"
      ]
     },
     "metadata": {},
     "output_type": "display_data"
    },
    {
     "data": {
      "application/vnd.jupyter.widget-view+json": {
       "model_id": "fb6dd3205abb47828ce7a244a963e631",
       "version_major": 2,
       "version_minor": 0
      },
      "text/plain": [
       "HTMLMath(value='', description=' ')"
      ]
     },
     "metadata": {},
     "output_type": "display_data"
    },
    {
     "data": {
      "application/vnd.jupyter.widget-view+json": {
       "model_id": "2ee33e18515d4a228543b7faf3ba896a",
       "version_major": 2,
       "version_minor": 0
      },
      "text/plain": [
       "HTMLMath(value='', description=' ')"
      ]
     },
     "metadata": {},
     "output_type": "display_data"
    },
    {
     "data": {
      "application/vnd.jupyter.widget-view+json": {
       "model_id": "0eacbd8b2bc2480897e3609a8d73ac5d",
       "version_major": 2,
       "version_minor": 0
      },
      "text/plain": [
       "HTMLMath(value='<h4>Gift Thoughtfulness</h4>\\n<p>How thoughtful was the gift, does it match who you are?</p>',…"
      ]
     },
     "metadata": {},
     "output_type": "display_data"
    },
    {
     "data": {
      "application/vnd.jupyter.widget-view+json": {
       "model_id": "7e16fc59bbc64221b0becbf1be0eaa7d",
       "version_major": 2,
       "version_minor": 0
      },
      "text/plain": [
       "Textarea(value='', description='Comment', layout=Layout(width='800px'))"
      ]
     },
     "metadata": {},
     "output_type": "display_data"
    },
    {
     "data": {
      "application/vnd.jupyter.widget-view+json": {
       "model_id": "f0f97eb6342d4d50aa8f7deb0acc3132",
       "version_major": 2,
       "version_minor": 0
      },
      "text/plain": [
       "Dropdown(description='Expectation', options=('', 'Raises', 'Meets', 'Lowers'), value='')"
      ]
     },
     "metadata": {},
     "output_type": "display_data"
    },
    {
     "data": {
      "application/vnd.jupyter.widget-view+json": {
       "model_id": "9eb9a899629944caa251da7a4e0fa28c",
       "version_major": 2,
       "version_minor": 0
      },
      "text/plain": [
       "HTMLMath(value='<h4>Gift Expense</h4>\\n<p>How expensive was the gift?</p>', description=' ', layout=Layout(wid…"
      ]
     },
     "metadata": {},
     "output_type": "display_data"
    },
    {
     "data": {
      "application/vnd.jupyter.widget-view+json": {
       "model_id": "493fa6fc0f0b47dd952da9f50c1ff663",
       "version_major": 2,
       "version_minor": 0
      },
      "text/plain": [
       "Textarea(value='', description='Comment', layout=Layout(width='800px'))"
      ]
     },
     "metadata": {},
     "output_type": "display_data"
    },
    {
     "data": {
      "application/vnd.jupyter.widget-view+json": {
       "model_id": "9d373ee169974f85ace5538e9680ad7a",
       "version_major": 2,
       "version_minor": 0
      },
      "text/plain": [
       "Dropdown(description='Expectation', options=('', 'Raises', 'Meets', 'Lowers'), value='')"
      ]
     },
     "metadata": {},
     "output_type": "display_data"
    },
    {
     "data": {
      "application/vnd.jupyter.widget-view+json": {
       "model_id": "03c523132ec643e68c44700e5f127a91",
       "version_major": 2,
       "version_minor": 0
      },
      "text/plain": [
       "HTMLMath(value='<h4>Overall</h4>', description=' ', layout=Layout(width='800px'))"
      ]
     },
     "metadata": {},
     "output_type": "display_data"
    },
    {
     "data": {
      "application/vnd.jupyter.widget-view+json": {
       "model_id": "d5b21b9c39134de99fa24c56eea0a6ad",
       "version_major": 2,
       "version_minor": 0
      },
      "text/plain": [
       "Textarea(value='', description='Comment', layout=Layout(width='800px'))"
      ]
     },
     "metadata": {},
     "output_type": "display_data"
    },
    {
     "data": {
      "application/vnd.jupyter.widget-view+json": {
       "model_id": "511023bfaba243faa201a8110116b6cb",
       "version_major": 2,
       "version_minor": 0
      },
      "text/plain": [
       "FloatSlider(value=5.0, description='Score', layout=Layout(width='800px'), max=10.0, step=1.0)"
      ]
     },
     "metadata": {},
     "output_type": "display_data"
    },
    {
     "data": {
      "application/vnd.jupyter.widget-view+json": {
       "model_id": "bf2e9d89a4594097914200ead93fd3c3",
       "version_major": 2,
       "version_minor": 0
      },
      "text/plain": [
       "HTMLMath(value='<h4>Other Comments</h4>', description=' ', layout=Layout(width='800px'))"
      ]
     },
     "metadata": {},
     "output_type": "display_data"
    },
    {
     "data": {
      "application/vnd.jupyter.widget-view+json": {
       "model_id": "c7b615f35075415fa4a59f2cd4ebdaf9",
       "version_major": 2,
       "version_minor": 0
      },
      "text/plain": [
       "Textarea(value='', description='Comment', layout=Layout(width='800px'))"
      ]
     },
     "metadata": {},
     "output_type": "display_data"
    },
    {
     "data": {
      "application/vnd.jupyter.widget-view+json": {
       "model_id": "91fcc53227394abab171b79ae31512db",
       "version_major": 2,
       "version_minor": 0
      },
      "text/plain": [
       "Button(description='Create markdown', style=ButtonStyle())"
      ]
     },
     "metadata": {},
     "output_type": "display_data"
    },
    {
     "data": {
      "application/vnd.jupyter.widget-view+json": {
       "model_id": "a6f5eaf489844768b30e1df18a7c5641",
       "version_major": 2,
       "version_minor": 0
      },
      "text/plain": [
       "Button(description='Create email', style=ButtonStyle())"
      ]
     },
     "metadata": {},
     "output_type": "display_data"
    },
    {
     "data": {
      "application/vnd.jupyter.widget-view+json": {
       "model_id": "88867ef91ee3443a924254665ca28772",
       "version_major": 2,
       "version_minor": 0
      },
      "text/plain": [
       "Button(description='Save Flows', style=ButtonStyle())"
      ]
     },
     "metadata": {},
     "output_type": "display_data"
    }
   ],
   "source": [
    "scorer = rf.display.Scorer(index, data)\n",
    "scorer.run()"
   ]
  },
  {
   "cell_type": "markdown",
   "id": "77f61f65",
   "metadata": {},
   "source": [
    "### "
   ]
  },
  {
   "cell_type": "code",
   "execution_count": 6,
   "id": "e1f416c7",
   "metadata": {},
   "outputs": [],
   "source": [
    "%debug"
   ]
  },
  {
   "cell_type": "code",
   "execution_count": null,
   "id": "94f34691",
   "metadata": {},
   "outputs": [],
   "source": [
    "scorer.widgets()"
   ]
  },
  {
   "cell_type": "code",
   "execution_count": null,
   "id": "b5112d0a",
   "metadata": {},
   "outputs": [],
   "source": []
  }
 ],
 "metadata": {
  "kernelspec": {
   "display_name": "Python 3",
   "language": "python",
   "name": "python3"
  },
  "language_info": {
   "codemirror_mode": {
    "name": "ipython",
    "version": 3
   },
   "file_extension": ".py",
   "mimetype": "text/x-python",
   "name": "python",
   "nbconvert_exporter": "python",
   "pygments_lexer": "ipython3",
   "version": "3.8.8"
  }
 },
 "nbformat": 4,
 "nbformat_minor": 5
}
