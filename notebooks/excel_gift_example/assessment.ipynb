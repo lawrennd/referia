{
 "cells": [
  {
   "cell_type": "markdown",
   "id": "98bf38a3",
   "metadata": {},
   "source": [
    "# Gift Assessment Notebook\n",
    "\n",
    "### 28th December 2021\n",
    "\n",
    "### Neil D. Lawrence\n",
    "\n",
    "This notebook is for demonstrating how the referia assessment system works.\n"
   ]
  },
  {
   "cell_type": "code",
   "execution_count": 1,
   "id": "3d81c9b5",
   "metadata": {},
   "outputs": [],
   "source": [
    "import referia as rf"
   ]
  },
  {
   "cell_type": "code",
   "execution_count": 2,
   "id": "30a95862",
   "metadata": {},
   "outputs": [
    {
     "data": {
      "text/html": [
       "\n",
       "<style>\n",
       ".container {\n",
       "    width: 100% !important;\n",
       "}   \n",
       "\n",
       "div.notebook-container {\n",
       "    width: 100% !important;\n",
       "    height: fit-content;\n",
       "}  \n",
       "\n",
       "div.menubar-container {\n",
       "    width: 100% !important;\n",
       "    height: fit-content;\n",
       "}  \n",
       "\n",
       "div.maintoolbar-container {\n",
       "    width: 100% !important;\n",
       "    height: fit-content;\n",
       "}  \n",
       "\n",
       "div.cell.selected {\n",
       "    border-left-width: 1px !important;  \n",
       "}\n",
       "\n",
       "div.output_scroll {\n",
       "    resize: vertical !important;\n",
       "}\n",
       "\n",
       ".output_wrapper .output { \n",
       "    overflow-y: visible; \n",
       "    height: fit-content; \n",
       "}\n",
       "\n",
       "\n",
       ".output_scroll {\n",
       "    box-shadow:none !important;\n",
       "    webkit-box-shadow:none !important;\n",
       "}\n",
       "</style>\n"
      ],
      "text/plain": [
       "<IPython.core.display.HTML object>"
      ]
     },
     "metadata": {},
     "output_type": "display_data"
    }
   ],
   "source": [
    "rf.display.expand_cell()"
   ]
  },
  {
   "cell_type": "code",
   "execution_count": 3,
   "id": "3f2a9043",
   "metadata": {},
   "outputs": [],
   "source": [
    "data = rf.assess.Data()"
   ]
  },
  {
   "cell_type": "code",
   "execution_count": 4,
   "id": "650de7a6",
   "metadata": {},
   "outputs": [],
   "source": [
    "index=data.index[0]"
   ]
  },
  {
   "cell_type": "code",
   "execution_count": 5,
   "id": "12553e95",
   "metadata": {},
   "outputs": [
    {
     "data": {
      "text/plain": [
       "{'index': 'keyname',\n",
       " 'type': 'excel',\n",
       " 'sheet': 'Sheet1',\n",
       " 'directory': None,\n",
       " 'filename': 'scores.xlsx',\n",
       " 'header': 0}"
      ]
     },
     "execution_count": 5,
     "metadata": {},
     "output_type": "execute_result"
    }
   ],
   "source": [
    "rf.display.config[\"scores\"]"
   ]
  },
  {
   "cell_type": "code",
   "execution_count": 6,
   "id": "a898e7f4",
   "metadata": {
    "scrolled": true
   },
   "outputs": [
    {
     "data": {
      "application/vnd.jupyter.widget-view+json": {
       "model_id": "e3ce0efdc6d240ecbaba9a1d3f5567d8",
       "version_major": 2,
       "version_minor": 0
      },
      "text/plain": [
       "interactive(children=(Dropdown(description='value', options=('G001', 'G002', 'G003', 'G004', 'G005', 'G006', '…"
      ]
     },
     "metadata": {},
     "output_type": "display_data"
    },
    {
     "data": {
      "application/vnd.jupyter.widget-view+json": {
       "model_id": "99bed6084a2f4411b9f46c6f52fbe14b",
       "version_major": 2,
       "version_minor": 0
      },
      "text/plain": [
       "interactive(children=(Label(value='9 to go. Scored 3 from 12 which is 25%', description='_progress_label'), HT…"
      ]
     },
     "metadata": {},
     "output_type": "display_data"
    }
   ],
   "source": [
    "scorer = rf.display.Scorer(index, data)\n",
    "scorer.run()"
   ]
  },
  {
   "cell_type": "markdown",
   "id": "77f61f65",
   "metadata": {},
   "source": [
    "### "
   ]
  },
  {
   "cell_type": "code",
   "execution_count": 7,
   "id": "94f34691",
   "metadata": {},
   "outputs": [
    {
     "data": {
      "text/plain": [
       "{'_progress_label': <referia.widgets.MyWidget at 0x7fb2322184c0>,\n",
       " '_viewer_label': <referia.widgets.MyWidget at 0x7fb23221fa60>,\n",
       " '_Thoughtfulness_Criterion': <referia.widgets.MyWidget at 0x7fb23220ceb0>,\n",
       " 'Thoughtfulness_Comment': <referia.widgets.MyWidget at 0x7fb23220c760>,\n",
       " 'Thoughtfulness_Expectation': <referia.widgets.MyWidget at 0x7fb23221f910>,\n",
       " '_Expense_Criterion': <referia.widgets.MyWidget at 0x7fb23229eb50>,\n",
       " 'Expense_Comment': <referia.widgets.MyWidget at 0x7fb23229ec40>,\n",
       " 'Expense_Expectation': <referia.widgets.MyWidget at 0x7fb2322aff40>,\n",
       " '_Overall_Criterion': <referia.widgets.MyWidget at 0x7fb2322afd00>,\n",
       " 'Overall_Comment': <referia.widgets.MyWidget at 0x7fb232272ca0>,\n",
       " 'Overall_Score': <referia.widgets.MyWidget at 0x7fb2322b9a60>,\n",
       " '_Other_Criterion': <referia.widgets.MyWidget at 0x7fb2322b9070>,\n",
       " 'Other_Comment': <referia.widgets.MyWidget at 0x7fb2322b93a0>}"
      ]
     },
     "execution_count": 7,
     "metadata": {},
     "output_type": "execute_result"
    }
   ],
   "source": [
    "scorer.widgets()"
   ]
  },
  {
   "cell_type": "code",
   "execution_count": null,
   "id": "b5112d0a",
   "metadata": {},
   "outputs": [],
   "source": []
  }
 ],
 "metadata": {
  "kernelspec": {
   "display_name": "Python 3",
   "language": "python",
   "name": "python3"
  },
  "language_info": {
   "codemirror_mode": {
    "name": "ipython",
    "version": 3
   },
   "file_extension": ".py",
   "mimetype": "text/x-python",
   "name": "python",
   "nbconvert_exporter": "python",
   "pygments_lexer": "ipython3",
   "version": "3.8.8"
  }
 },
 "nbformat": 4,
 "nbformat_minor": 5
}
