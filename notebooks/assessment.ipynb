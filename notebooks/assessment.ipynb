{
 "cells": [
  {
   "cell_type": "markdown",
   "id": "98bf38a3",
   "metadata": {},
   "source": [
    "# Gift Assessment Notebook\n",
    "\n",
    "### 28th December 2021\n",
    "\n",
    "### Neil D. Lawrence\n",
    "\n",
    "This notebook is for demonstrating how the referia assessment system works.\n"
   ]
  },
  {
   "cell_type": "code",
   "execution_count": 9,
   "id": "3d81c9b5",
   "metadata": {},
   "outputs": [],
   "source": [
    "import referia as rf"
   ]
  },
  {
   "cell_type": "code",
   "execution_count": 10,
   "id": "30a95862",
   "metadata": {},
   "outputs": [
    {
     "data": {
      "text/html": [
       "\n",
       "<style>\n",
       ".container {\n",
       "    width: 100% !important;\n",
       "}   \n",
       "\n",
       "div.notebook-container {\n",
       "    width: 100% !important;\n",
       "    height: fit-content;\n",
       "}  \n",
       "\n",
       "div.menubar-container {\n",
       "    width: 100% !important;\n",
       "    height: fit-content;\n",
       "}  \n",
       "\n",
       "div.maintoolbar-container {\n",
       "    width: 100% !important;\n",
       "    height: fit-content;\n",
       "}  \n",
       "\n",
       "div.cell.selected {\n",
       "    border-left-width: 1px !important;  \n",
       "}\n",
       "\n",
       "div.output_scroll {\n",
       "    resize: vertical !important;\n",
       "}\n",
       "\n",
       ".output_wrapper .output { \n",
       "    overflow-y: visible; \n",
       "    height: fit-content; \n",
       "}\n",
       "\n",
       "\n",
       ".output_scroll {\n",
       "    box-shadow:none !important;\n",
       "    webkit-box-shadow:none !important;\n",
       "}\n",
       "</style>\n"
      ],
      "text/plain": [
       "<IPython.core.display.HTML object>"
      ]
     },
     "metadata": {},
     "output_type": "display_data"
    }
   ],
   "source": [
    "rf.display.expand_cell()"
   ]
  },
  {
   "cell_type": "code",
   "execution_count": 11,
   "id": "3f2a9043",
   "metadata": {},
   "outputs": [],
   "source": [
    "rf.assess.load_data()"
   ]
  },
  {
   "cell_type": "code",
   "execution_count": 12,
   "id": "650de7a6",
   "metadata": {},
   "outputs": [],
   "source": [
    "INDEX=rf.assess.DATA.index[0]"
   ]
  },
  {
   "cell_type": "code",
   "execution_count": 13,
   "id": "a898e7f4",
   "metadata": {
    "scrolled": true
   },
   "outputs": [
    {
     "data": {
      "application/vnd.jupyter.widget-view+json": {
       "model_id": "315a2bbb02474a909293fe74822c3738",
       "version_major": 2,
       "version_minor": 0
      },
      "text/plain": [
       "interactive(children=(Dropdown(description='index', options=('G001', 'G002', 'G003', 'G004', 'G005', 'G006', '…"
      ]
     },
     "metadata": {},
     "output_type": "display_data"
    }
   ],
   "source": [
    "rf.assess.score(INDEX)"
   ]
  },
  {
   "cell_type": "markdown",
   "id": "77f61f65",
   "metadata": {},
   "source": [
    "### "
   ]
  }
 ],
 "metadata": {
  "kernelspec": {
   "display_name": "Python 3",
   "language": "python",
   "name": "python3"
  },
  "language_info": {
   "codemirror_mode": {
    "name": "ipython",
    "version": 3
   },
   "file_extension": ".py",
   "mimetype": "text/x-python",
   "name": "python",
   "nbconvert_exporter": "python",
   "pygments_lexer": "ipython3",
   "version": "3.8.8"
  }
 },
 "nbformat": 4,
 "nbformat_minor": 5
}
