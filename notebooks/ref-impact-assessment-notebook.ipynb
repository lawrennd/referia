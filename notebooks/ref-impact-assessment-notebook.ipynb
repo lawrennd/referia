{
 "cells": [
  {
   "cell_type": "markdown",
   "id": "98bf38a3",
   "metadata": {},
   "source": [
    "# REF Impact Assessment Notebook\n",
    "\n",
    "### 13th September 2021\n",
    "\n",
    "### Neil D. Lawrence\n",
    "\n",
    "This notebook is a helper for reviewing ref impact case studies.\n"
   ]
  },
  {
   "cell_type": "code",
   "execution_count": 1,
   "id": "3d81c9b5",
   "metadata": {},
   "outputs": [],
   "source": [
    "import ref"
   ]
  },
  {
   "cell_type": "code",
   "execution_count": 2,
   "id": "d7f47ed0",
   "metadata": {},
   "outputs": [],
   "source": [
    "# For calibration exercise\n",
    "#ref.config.config['allocation'] = '2021-09-03-ref-assessment-calibration-sheet.xlsx'\n",
    "#ref.config.config['upload'] = 'upload-calibration-version.xlsx'"
   ]
  },
  {
   "cell_type": "code",
   "execution_count": 3,
   "id": "3f2a9043",
   "metadata": {},
   "outputs": [],
   "source": [
    "data = ref.assess.case_study_data()"
   ]
  },
  {
   "cell_type": "code",
   "execution_count": 4,
   "id": "206995a8",
   "metadata": {},
   "outputs": [],
   "source": [
    "write_data = ref.access.upload_case_study()"
   ]
  },
  {
   "cell_type": "code",
   "execution_count": 5,
   "id": "650de7a6",
   "metadata": {},
   "outputs": [],
   "source": [
    "INDEX = 18153"
   ]
  },
  {
   "cell_type": "code",
   "execution_count": 6,
   "id": "a898e7f4",
   "metadata": {},
   "outputs": [
    {
     "data": {
      "application/vnd.jupyter.widget-view+json": {
       "model_id": "1b460173fd99429e9eaba604a5d38160",
       "version_major": 2,
       "version_minor": 0
      },
      "text/plain": [
       "interactive(children=(Dropdown(description='index', options=(18153, 18472, 18687, 19169, 19356, 19449, 19497, …"
      ]
     },
     "metadata": {},
     "output_type": "display_data"
    },
    {
     "name": "stdout",
     "output_type": "stream",
     "text": [
      "Saved\n"
     ]
    }
   ],
   "source": [
    "ref.assess.score(INDEX, data, write_data)"
   ]
  },
  {
   "cell_type": "code",
   "execution_count": null,
   "id": "61e8d780",
   "metadata": {},
   "outputs": [],
   "source": [
    "import numpy as np\n",
    "import matplotlib.pyplot as plt\n",
    "fig, ax = plt.subplots(figsize=(10, 5))\n",
    "write_data.hist(column='Score', grid=False, bins=np.linspace(-0.5, 12.5, 14), width=0.8, ax=ax)\n",
    "_ = ax.set_xticks(np.linspace(0,12,13))"
   ]
  },
  {
   "cell_type": "code",
   "execution_count": null,
   "id": "cd3f1971",
   "metadata": {},
   "outputs": [],
   "source": [
    "((write_data['Score']>3) & (write_data['Score']<7)).sum()/write_data['Score'].count()"
   ]
  },
  {
   "cell_type": "code",
   "execution_count": null,
   "id": "f69ff8fb",
   "metadata": {},
   "outputs": [],
   "source": [
    "write_data['Score'].count()"
   ]
  },
  {
   "cell_type": "markdown",
   "id": "694fa2b8",
   "metadata": {},
   "source": [
    "https://members.ref.ac.uk/members/Spreadsheets"
   ]
  },
  {
   "cell_type": "code",
   "execution_count": null,
   "id": "cdd657ad",
   "metadata": {},
   "outputs": [],
   "source": [
    "((write_data['Score']>9) & (write_data['Score']<12)).sum()/write_data['Score'].count()"
   ]
  },
  {
   "cell_type": "code",
   "execution_count": null,
   "id": "aee2a84c",
   "metadata": {},
   "outputs": [],
   "source": [
    "0.235*0.235+0.765*0.765"
   ]
  },
  {
   "cell_type": "markdown",
   "id": "77f61f65",
   "metadata": {},
   "source": [
    "### "
   ]
  }
 ],
 "metadata": {
  "kernelspec": {
   "display_name": "Python 3",
   "language": "python",
   "name": "python3"
  },
  "language_info": {
   "codemirror_mode": {
    "name": "ipython",
    "version": 3
   },
   "file_extension": ".py",
   "mimetype": "text/x-python",
   "name": "python",
   "nbconvert_exporter": "python",
   "pygments_lexer": "ipython3",
   "version": "3.8.8"
  }
 },
 "nbformat": 4,
 "nbformat_minor": 5
}
