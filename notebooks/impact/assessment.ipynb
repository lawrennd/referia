{
 "cells": [
  {
   "cell_type": "markdown",
   "id": "98bf38a3",
   "metadata": {},
   "source": [
    "# REF Impact Assessment Notebook\n",
    "\n",
    "### 13th September 2021\n",
    "\n",
    "### Neil D. Lawrence\n",
    "\n",
    "This notebook is a helper for reviewing ref impact case studies.\n"
   ]
  },
  {
   "cell_type": "code",
   "execution_count": 1,
   "id": "3d81c9b5",
   "metadata": {},
   "outputs": [],
   "source": [
    "import ref"
   ]
  },
  {
   "cell_type": "code",
   "execution_count": 2,
   "id": "d7f47ed0",
   "metadata": {},
   "outputs": [],
   "source": [
    "# For calibration exercise\n",
    "#ref.config.config['allocation'] = '2021-09-03-ref-assessment-calibration-sheet.xlsx'\n",
    "#ref.config.config['upload'] = 'upload-calibration-version.xlsx'"
   ]
  },
  {
   "cell_type": "code",
   "execution_count": 3,
   "id": "3f2a9043",
   "metadata": {},
   "outputs": [],
   "source": [
    "data = ref.assess.case_study_data()"
   ]
  },
  {
   "cell_type": "code",
   "execution_count": 13,
   "id": "f63ff14d",
   "metadata": {},
   "outputs": [],
   "source": [
    "indices = [24570, 20488, 23021, 22261, 19619, 18997, 22418, 22343, 20474, 20514, 20408, 24555, 21570, 24012, 18732, 22070, 23530, 23643, 23880, 24259, 21028, 21479, 22155, 24354, 19157, 20713, 22415, 24211, 18153, 22861, 19001, 22688, 24788, 18834, 19277, 23891, 20115, 18636, 18680, 24813, 24128, 24922, 23783, 21645, 21911, 18876, 21496, 18122, 19023, 21853, 19091, 18559, 24558, 23603, 21979, 18553, 21922, 22690, 19449, 19814, 24630, 23939, 24549, 18419, 22632, 18472, 23763, 21487, 24898, 20222, 18977, 19987, 18905, 22284, 21319, 20881, 19511, 24219, 18618, 23304, 19724, 22110, 18694, 18597, 19353, 24682, 18776, 21572, 22161, 22978, 20995, 19324, 19497, 23650, 22679, 18851, 21006, 23478, 23188, 22956, 21095, 20429, 18856, 19083, 19665, 23612, 22055, 22918, 22000, 22726, 18710, 19093, 18078, 24444, 24722, 23342, 21453, 24903, 18593, 18518, 18461, 20444, 20000, 21131, 23989, 19756, 23287, 23923, 22428, 20085, 24750, 23028, 21975, 23508, 20557, 21008, 24349, 21185, 22088, 24928, 22611, 21961, 18813, 23799, 24906, 19008, 19431, 24467, 20604, 19351]"
   ]
  },
  {
   "cell_type": "code",
   "execution_count": 17,
   "id": "4de05c80",
   "metadata": {},
   "outputs": [
    {
     "name": "stdout",
     "output_type": "stream",
     "text": [
      "[24211, 18153, 22690, 19449, 24549, 18472, 24219, 19724, 19497, 22679, 21006, 20085]\n",
      "[28, 29, 58, 59, 63, 66, 78, 81, 93, 95, 97, 130]\n"
     ]
    }
   ],
   "source": [
    "ind_list = []\n",
    "order_list = []\n",
    "i=0\n",
    "for index in indices:\n",
    "    i += 1\n",
    "    if index in data.index:\n",
    "        ind_list.append(index)\n",
    "       \n",
    "        order_list.append(i)\n",
    "print(ind_list)\n",
    "print(order_list)"
   ]
  },
  {
   "cell_type": "code",
   "execution_count": 22,
   "id": "30e4c069",
   "metadata": {},
   "outputs": [
    {
     "name": "stdout",
     "output_type": "stream",
     "text": [
      "15\n"
     ]
    }
   ],
   "source": [
    "for i, ind in enumerate(indices):\n",
    "    if ind == 22070:\n",
    "        print(i)"
   ]
  },
  {
   "cell_type": "code",
   "execution_count": 4,
   "id": "206995a8",
   "metadata": {},
   "outputs": [],
   "source": [
    "write_data = ref.access.upload_case_study()"
   ]
  },
  {
   "cell_type": "code",
   "execution_count": 5,
   "id": "650de7a6",
   "metadata": {},
   "outputs": [],
   "source": [
    "INDEX = 22690"
   ]
  },
  {
   "cell_type": "code",
   "execution_count": 6,
   "id": "a898e7f4",
   "metadata": {
    "scrolled": true
   },
   "outputs": [
    {
     "data": {
      "application/vnd.jupyter.widget-view+json": {
       "model_id": "d9835c682c1149d49ef05a8932410463",
       "version_major": 2,
       "version_minor": 0
      },
      "text/plain": [
       "interactive(children=(Dropdown(description='index', options=(18153, 18472, 18687, 19169, 19356, 19449, 19497, …"
      ]
     },
     "metadata": {},
     "output_type": "display_data"
    },
    {
     "name": "stdout",
     "output_type": "stream",
     "text": [
      "Saved\n"
     ]
    }
   ],
   "source": [
    "ref.assess.score(INDEX, data, write_data)"
   ]
  },
  {
   "cell_type": "code",
   "execution_count": 9,
   "id": "e82c137b",
   "metadata": {},
   "outputs": [],
   "source": []
  },
  {
   "cell_type": "code",
   "execution_count": 10,
   "id": "871e14c6",
   "metadata": {},
   "outputs": [
    {
     "name": "stdout",
     "output_type": "stream",
     "text": [
      "[22690, 19449, 24549, 18472, 24211, 24219, 18153, 20085, 19724, 19497, 22679, 21006]\n"
     ]
    }
   ],
   "source": []
  },
  {
   "cell_type": "code",
   "execution_count": 17,
   "id": "61e8d780",
   "metadata": {},
   "outputs": [
    {
     "data": {
      "image/png": "[encoded data removed]",
      "text/plain": [
       "<Figure size 720x360 with 1 Axes>"
      ]
     },
     "metadata": {
      "needs_background": "light"
     },
     "output_type": "display_data"
    }
   ],
   "source": [
    "import numpy as np\n",
    "import matplotlib.pyplot as plt\n",
    "fig, ax = plt.subplots(figsize=(10, 5))\n",
    "write_data.hist(column='Score', grid=False, bins=np.linspace(-0.5, 4.5, 10), width=0.4, ax=ax)\n",
    "_ = ax.set_xticks(np.linspace(-0,4,5))"
   ]
  },
  {
   "cell_type": "code",
   "execution_count": 8,
   "id": "cd3f1971",
   "metadata": {},
   "outputs": [
    {
     "data": {
      "text/plain": [
       "0.8571428571428571"
      ]
     },
     "execution_count": 8,
     "metadata": {},
     "output_type": "execute_result"
    }
   ],
   "source": [
    "((write_data['Score']>3) & (write_data['Score']<7)).sum()/write_data['Score'].count()"
   ]
  },
  {
   "cell_type": "code",
   "execution_count": 9,
   "id": "f69ff8fb",
   "metadata": {},
   "outputs": [
    {
     "data": {
      "text/plain": [
       "7"
      ]
     },
     "execution_count": 9,
     "metadata": {},
     "output_type": "execute_result"
    }
   ],
   "source": [
    "write_data['Score'].count()"
   ]
  },
  {
   "cell_type": "markdown",
   "id": "694fa2b8",
   "metadata": {},
   "source": [
    "https://members.ref.ac.uk/members/Spreadsheets"
   ]
  },
  {
   "cell_type": "code",
   "execution_count": 10,
   "id": "cdd657ad",
   "metadata": {},
   "outputs": [
    {
     "data": {
      "text/plain": [
       "0.0"
      ]
     },
     "execution_count": 10,
     "metadata": {},
     "output_type": "execute_result"
    }
   ],
   "source": [
    "((write_data['Score']>9) & (write_data['Score']<12)).sum()/write_data['Score'].count()"
   ]
  },
  {
   "cell_type": "code",
   "execution_count": 11,
   "id": "aee2a84c",
   "metadata": {},
   "outputs": [
    {
     "data": {
      "text/plain": [
       "0.64045"
      ]
     },
     "execution_count": 11,
     "metadata": {},
     "output_type": "execute_result"
    }
   ],
   "source": [
    "0.235*0.235+0.765*0.765"
   ]
  },
  {
   "cell_type": "markdown",
   "id": "77f61f65",
   "metadata": {},
   "source": [
    "### "
   ]
  }
 ],
 "metadata": {
  "kernelspec": {
   "display_name": "Python 3",
   "language": "python",
   "name": "python3"
  },
  "language_info": {
   "codemirror_mode": {
    "name": "ipython",
    "version": 3
   },
   "file_extension": ".py",
   "mimetype": "text/x-python",
   "name": "python",
   "nbconvert_exporter": "python",
   "pygments_lexer": "ipython3",
   "version": "3.8.8"
  }
 },
 "nbformat": 4,
 "nbformat_minor": 5
}
