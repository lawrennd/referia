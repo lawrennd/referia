{
 "cells": [
  {
   "cell_type": "markdown",
   "id": "98bf38a3",
   "metadata": {},
   "source": [
    "# REF Assessment Notebook\n",
    "\n",
    "### 31st May 2021\n",
    "\n",
    "### Neil D. Lawrence\n",
    "\n",
    "This notebook is a helper for reviewing ref papers.\n"
   ]
  },
  {
   "cell_type": "code",
   "execution_count": 1,
   "id": "3d81c9b5",
   "metadata": {},
   "outputs": [],
   "source": [
    "import ref"
   ]
  },
  {
   "cell_type": "code",
   "execution_count": 2,
   "id": "3f2a9043",
   "metadata": {},
   "outputs": [],
   "source": [
    "data = ref.assess.data()"
   ]
  },
  {
   "cell_type": "code",
   "execution_count": 3,
   "id": "206995a8",
   "metadata": {},
   "outputs": [],
   "source": [
    "write_data = ref.access.upload()"
   ]
  },
  {
   "cell_type": "code",
   "execution_count": 32,
   "id": "4c72f1e1",
   "metadata": {},
   "outputs": [],
   "source": [
    "indices = [341757,328708,239527,279835,356017,268772,341139,242167,192917,203162,\n",
    "           230603,330187,185626,354873,220192,350058,284196,317194,325722,231106,\n",
    "           241026,185009,212326,182520,245992,216817,313126,260274,267888,221423,\n",
    "           239439,258975,205944,358123,357589,183002,317156,208269,277876,297631,\n",
    "           292394,357931,243636,278766,219227,208002,197818,292151,202046,288347,\n",
    "           205037,339922,264822,189824,357932,323865,213366,230124,206067,197321,\n",
    "           308673,342213,299461,212929,215558,323122,356107,343930,299152,338347,\n",
    "           190820,215012,198717,203646,303256,238461,366105,244051,325244,234424,\n",
    "           317453,197195,356475,259209,299757,356803,269500,209559,365945,334295,\n",
    "           231292,324854,277128,307401,181581,232694,350194,196633,219677,247722,\n",
    "           183444,278818,231068,233681,364761,348390,347506,312010,354659,222722,\n",
    "           334789,303697,183154,307032,268598,213613,200244,351420,270154,301245,\n",
    "           181863,235131,350420,246605,210905,276881,341628,297096,340387,212908,\n",
    "           367852,354880,204926,357242,232178,251001,187747,192097,337398,287068,\n",
    "           262814,322953,367397,193783,265470,288270,204041,357488,190834,318674,\n",
    "           206872,187248,186167,288786,218585,235410,303894,309550,347424,219188,\n",
    "           235355,337120,328390,349501,285488,199134,198473,300225,186013,215603,\n",
    "           204297,199114,365336,352389,190927,361425,200510,245205,293104,343986,\n",
    "           337417,298865,288239,202375,348087,304429,184013,199087,254097,342078,\n",
    "           340432,226048,241232,213566,195296,344367,203523,202055,293928]"
   ]
  },
  {
   "cell_type": "code",
   "execution_count": 33,
   "id": "650de7a6",
   "metadata": {},
   "outputs": [
    {
     "name": "stdout",
     "output_type": "stream",
     "text": [
      "[190696, 279835, 242167, 203162, 354873, 260274, 239439, 317156, 243636, 339922, 259209, 269500, 307401, 196633, 231068, 348390, 183154, 213613, 192097, 337398, 218585, 235355, 190927, 304429, 254097, 340432, 195296]\n"
     ]
    }
   ],
   "source": [
    "ind_list = [190696]\n",
    "for index in indices:\n",
    "    if index in data.index:\n",
    "        ind_list.append(index)\n",
    "print(ind_list)"
   ]
  },
  {
   "cell_type": "code",
   "execution_count": 7,
   "id": "a898e7f4",
   "metadata": {},
   "outputs": [
    {
     "data": {
      "application/vnd.jupyter.widget-view+json": {
       "model_id": "dc4d69efbf8c4c958210ebdd886c741e",
       "version_major": 2,
       "version_minor": 0
      },
      "text/plain": [
       "interactive(children=(Dropdown(description='index', index=295, options=(180784, 181010, 181046, 181174, 181249…"
      ]
     },
     "metadata": {},
     "output_type": "display_data"
    },
    {
     "name": "stdout",
     "output_type": "stream",
     "text": [
      "Saved\n"
     ]
    }
   ],
   "source": [
    "ref.assess.score(INDEX, data, write_data)"
   ]
  },
  {
   "cell_type": "code",
   "execution_count": 30,
   "id": "d6279b41",
   "metadata": {},
   "outputs": [],
   "source": [
    "ind = (write_data['REF output identifier'] == 'o' +str(index))"
   ]
  },
  {
   "cell_type": "code",
   "execution_count": 31,
   "id": "a08d0e34",
   "metadata": {},
   "outputs": [
    {
     "data": {
      "text/html": [
       "<div>\n",
       "<style scoped>\n",
       "    .dataframe tbody tr th:only-of-type {\n",
       "        vertical-align: middle;\n",
       "    }\n",
       "\n",
       "    .dataframe tbody tr th {\n",
       "        vertical-align: top;\n",
       "    }\n",
       "\n",
       "    .dataframe thead th {\n",
       "        text-align: right;\n",
       "    }\n",
       "</style>\n",
       "<table border=\"1\" class=\"dataframe\">\n",
       "  <thead>\n",
       "    <tr style=\"text-align: right;\">\n",
       "      <th></th>\n",
       "      <th>REF output identifier</th>\n",
       "      <th>REF output identifier.1</th>\n",
       "      <th>Submission Name</th>\n",
       "      <th>Output identifier</th>\n",
       "      <th>Output title</th>\n",
       "      <th>Attributed staff member</th>\n",
       "      <th>Author contribution statement</th>\n",
       "      <th>Additional attributed staff member</th>\n",
       "      <th>Additional author contribution statement</th>\n",
       "      <th>Additional output info</th>\n",
       "      <th>...</th>\n",
       "      <th>reserveRequired</th>\n",
       "      <th>REF output identifieradditional</th>\n",
       "      <th>Output identifieradditional</th>\n",
       "      <th>Output titleadditional</th>\n",
       "      <th>English language abstract</th>\n",
       "      <th>Double weighting request text</th>\n",
       "      <th>Additional output information</th>\n",
       "      <th>COVID-19 statementadditional</th>\n",
       "      <th>Author contribution statementadditional</th>\n",
       "      <th>Additional author contribution statementadditional</th>\n",
       "    </tr>\n",
       "  </thead>\n",
       "  <tbody>\n",
       "  </tbody>\n",
       "</table>\n",
       "<p>0 rows × 71 columns</p>\n",
       "</div>"
      ],
      "text/plain": [
       "Empty DataFrame\n",
       "Columns: [REF output identifier, REF output identifier.1, Submission Name, Output identifier, Output title, Attributed staff member, Author contribution statement, Additional attributed staff member, Additional author contribution statement, Additional output info, COVID-19 statement, USB Link (Mac users click here first), PMW Link, DOI, Supplementary information, Research group(s), Volume title, Year, Citation count, Type of output, Media of output, No. co-authors, Open access status, Interdisciplinary, Change interdisplinary status, Forensic science output, Criminology output, Reserve, DW requested, Accept DW, DW panel decision, Score, Comment, Comment 2, Comment 3, Comment 4, Comment 5, Allocated panellist(s), Cross referral requested, Non-English, Specialist advice request, Advising panellist name, Advice received, LocalDocumentLink, PMWDetailPageLink, DOI.1, SupplementaryInformation, AdditionalInformationIncluded, COVID19StatementIncluded, CrossReferralType, IsNonEnglishLanguage, ProposeDoubleWeighting, AttributedStaffLink, AttributedStaffName, AuthorContributionStatementInclude, SecondAttributedStaffLink, SecondAttributedStaffName, AdditionalAuthorContributionStatementInclude, IsLocked, Version, ref2Id, reserveRequired, REF output identifieradditional, Output identifieradditional, Output titleadditional, English language abstract, Double weighting request text, Additional output information, COVID-19 statementadditional, Author contribution statementadditional, Additional author contribution statementadditional]\n",
       "Index: []\n",
       "\n",
       "[0 rows x 71 columns]"
      ]
     },
     "execution_count": 31,
     "metadata": {},
     "output_type": "execute_result"
    }
   ],
   "source": [
    "write_data[ind]\n",
    "    "
   ]
  },
  {
   "cell_type": "code",
   "execution_count": null,
   "id": "5e99c5c4",
   "metadata": {},
   "outputs": [],
   "source": [
    " S: already picked up in mental well-being literature despite relatively recent release.  3 R: Qualitative and quantitative analysis of the results. 4"
   ]
  },
  {
   "cell_type": "code",
   "execution_count": 21,
   "id": "61e8d780",
   "metadata": {},
   "outputs": [
    {
     "data": {
      "image/png": "[encoded data removed]",
      "text/plain": [
       "<Figure size 720x360 with 1 Axes>"
      ]
     },
     "metadata": {
      "needs_background": "light"
     },
     "output_type": "display_data"
    }
   ],
   "source": [
    "import numpy as np\n",
    "import matplotlib.pyplot as plt\n",
    "fig, ax = plt.subplots(figsize=(10, 5))\n",
    "write_data.hist(column='Score', grid=False, bins=np.linspace(-0.5, 12.5, 14), width=0.8, ax=ax)\n",
    "_ = ax.set_xticks(np.linspace(0,12,13))"
   ]
  },
  {
   "cell_type": "code",
   "execution_count": null,
   "id": "cd3f1971",
   "metadata": {},
   "outputs": [],
   "source": [
    "((write_data['Score']>3) & (write_data['Score']<7)).sum()/write_data['Score'].count()"
   ]
  },
  {
   "cell_type": "code",
   "execution_count": null,
   "id": "f69ff8fb",
   "metadata": {},
   "outputs": [],
   "source": [
    "write_data['Score'].count()"
   ]
  },
  {
   "cell_type": "markdown",
   "id": "694fa2b8",
   "metadata": {},
   "source": [
    "https://members.ref.ac.uk/members/Spreadsheets"
   ]
  },
  {
   "cell_type": "code",
   "execution_count": null,
   "id": "cdd657ad",
   "metadata": {},
   "outputs": [],
   "source": [
    "((write_data['Score']>9) & (write_data['Score']<12)).sum()/write_data['Score'].count()"
   ]
  },
  {
   "cell_type": "code",
   "execution_count": null,
   "id": "009134a3",
   "metadata": {},
   "outputs": [],
   "source": [
    "o341757\n",
    "o328708\n",
    "o239527\n",
    "o279835\n",
    "o356017\n",
    "o268772\n",
    "o341139\n",
    "o242167\n",
    "o192917\n",
    "o203162\n",
    "o230603\n",
    "o330187\n",
    "o185626\n",
    "o354873\n",
    "o220192\n",
    "o350058\n",
    "o284196\n",
    "o317194\n",
    "o325722\n",
    "o231106\n",
    "o241026\n",
    "o185009\n",
    "o212326\n",
    "o182520\n",
    "o245992\n",
    "o216817\n",
    "o313126\n",
    "o260274\n",
    "o267888\n",
    "o221423\n",
    "o239439\n",
    "o258975\n",
    "o205944\n",
    "o358123\n",
    "o357589\n",
    "o183002\n",
    "o317156\n",
    "o208269\n",
    "o277876\n",
    "o297631\n",
    "o292394\n",
    "o357931\n",
    "o243636\n",
    "o278766\n",
    "o219227\n",
    "o208002\n",
    "o197818\n",
    "o292151\n",
    "o202046\n",
    "o288347\n",
    "o205037\n",
    "o339922\n",
    "o264822\n",
    "o189824\n",
    "o357932\n",
    "o323865\n",
    "o213366\n",
    "o230124\n",
    "o206067\n",
    "o197321\n",
    "o308673\n",
    "o342213\n",
    "o299461\n",
    "o212929\n",
    "o215558\n",
    "o323122\n",
    "o356107\n",
    "o343930\n",
    "o299152\n",
    "o338347\n",
    "o190820\n",
    "o215012\n",
    "o198717\n",
    "o203646\n",
    "o303256\n",
    "o238461\n",
    "o366105\n",
    "o244051\n",
    "o325244\n",
    "o234424\n",
    "o317453\n",
    "o197195\n",
    "o356475\n",
    "o259209\n",
    "o299757\n",
    "o356803\n",
    "o269500\n",
    "o209559\n",
    "o365945\n",
    "o334295\n",
    "o231292\n",
    "o324854\n",
    "o277128\n",
    "o307401\n",
    "o181581\n",
    "o232694\n",
    "o350194\n",
    "o196633\n",
    "o219677\n"
   ]
  },
  {
   "cell_type": "markdown",
   "id": "77f61f65",
   "metadata": {},
   "source": [
    "### "
   ]
  }
 ],
 "metadata": {
  "kernelspec": {
   "display_name": "Python 3",
   "language": "python",
   "name": "python3"
  },
  "language_info": {
   "codemirror_mode": {
    "name": "ipython",
    "version": 3
   },
   "file_extension": ".py",
   "mimetype": "text/x-python",
   "name": "python",
   "nbconvert_exporter": "python",
   "pygments_lexer": "ipython3",
   "version": "3.8.8"
  }
 },
 "nbformat": 4,
 "nbformat_minor": 5
}
