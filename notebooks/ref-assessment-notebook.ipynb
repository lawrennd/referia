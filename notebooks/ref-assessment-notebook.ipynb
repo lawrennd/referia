{
 "cells": [
  {
   "cell_type": "markdown",
   "id": "98bf38a3",
   "metadata": {},
   "source": [
    "# REF Assessment Notebook\n",
    "\n",
    "### 31st May 2021\n",
    "\n",
    "### Neil D. Lawrence\n",
    "\n",
    "This notebook is a helper for reviewing ref papers.\n"
   ]
  },
  {
   "cell_type": "code",
   "execution_count": null,
   "id": "3d81c9b5",
   "metadata": {},
   "outputs": [],
   "source": [
    "import ref"
   ]
  },
  {
   "cell_type": "code",
   "execution_count": null,
   "id": "3f2a9043",
   "metadata": {},
   "outputs": [],
   "source": [
    "data = ref.assess.data()"
   ]
  },
  {
   "cell_type": "code",
   "execution_count": null,
   "id": "206995a8",
   "metadata": {},
   "outputs": [],
   "source": [
    "write_data = ref.access.upload()"
   ]
  },
  {
   "cell_type": "code",
   "execution_count": null,
   "id": "650de7a6",
   "metadata": {},
   "outputs": [],
   "source": [
    "INDEX = 207591"
   ]
  },
  {
   "cell_type": "code",
   "execution_count": null,
   "id": "65137c4c",
   "metadata": {},
   "outputs": [],
   "source": [
    "from __future__ import print_function\n",
    "from ipywidgets import interact, interactive, fixed, interact_manual\n",
    "import ipywidgets as widgets\n",
    "import re"
   ]
  },
  {
   "cell_type": "code",
   "execution_count": null,
   "id": "b26bc24d",
   "metadata": {},
   "outputs": [],
   "source": [
    "import pandas as pd\n",
    "from openpyxl import load_workbook, Workbook\n",
    "import os"
   ]
  },
  {
   "cell_type": "code",
   "execution_count": null,
   "id": "689ab025",
   "metadata": {},
   "outputs": [],
   "source": [
    "comment = {}\n",
    "score = {}\n",
    "\n",
    "def update_df(df, write_df,\n",
    "              o_text, o_score,\n",
    "              s_text, s_score,\n",
    "              r_text, r_score, interdisciplinary_comment, my_comment, index):\n",
    "    comment = \"{o_text} {o_score} {s_text} {s_score} {r_text} {r_score}\".format(o_text=o_text, o_score=o_score, \n",
    "                                                                                s_text=s_text, s_score=s_score, \n",
    "                                                                                r_text=r_text, r_score=r_score)\n",
    "\n",
    "    score = o_score + s_score + r_score\n",
    "    \n",
    "    # Write index\n",
    "    print(index)\n",
    "    write_index = write_df['REF output identifier']==\"O\" + str(index)\n",
    "    write_df.at[write_index, 'Comment'] = comment\n",
    "    write_df.at[write_index, 'Score'] = score\n",
    "    write_df.at[write_index, 'Comment 2'] = interdisciplinary_comment\n",
    "    write_df.at[write_index, 'Comment 4'] = my_comment\n",
    "    filename = os.path.expandvars(os.path.join(ref.access.config['datadirectory'], ref.access.config['upload']))\n",
    "    writer = pd.ExcelWriter(filename, engine='xlsxwriter')\n",
    "    write_df.to_excel(writer,sheet_name=ref.access.config['outputs_sheet'], startrow=3,index=False)\n",
    "    writer.save()\n",
    "    \n",
    "\n",
    "def update_index(df, write_df, index):\n",
    "    if index not in df.index:\n",
    "        raise ValueError(\"Invalid index\")\n",
    "    \n",
    "    ref.assess.query(df, index)\n",
    "\n",
    "    o_text = \"O: \"\n",
    "    s_text = \"S: \"\n",
    "    r_text = \"R: \"\n",
    "    o_score = 2\n",
    "    s_score = 2\n",
    "    r_score = 2\n",
    "    \n",
    "    write_index = write_df[write_df['REF output identifier']==\"O\" + str(index)].index[0]\n",
    "    \n",
    "    print(write_df.at[write_index, 'Comment'])\n",
    "    if match := re.search('O:\\s*(.*)\\s*([0-4])\\.?\\s*S:\\s*(.*)\\s*([0-4])\\.?\\s*R:\\s*(.*)\\s*([0-4])\\.?\\s*', \n",
    "                          write_df.at[write_index, 'Comment']):\n",
    "        o_text = \"O: \" + match.group(1).strip()\n",
    "        s_text = \"S: \" + match.group(3).strip()\n",
    "        r_text = \"R: \" + match.group(5).strip()\n",
    "        o_score = int(match.group(2))\n",
    "        s_score = int(match.group(4))\n",
    "        r_score = int(match.group(6))\n",
    "    elif len(df['Comment'][index])>0:\n",
    "        raise ValueError(\"Could not parse comment section of entry O\" + str(index))\n",
    "    \n",
    "\n",
    "    o_score_range = widgets.IntSlider(min=0, max=4, step=1, value=o_score)    \n",
    "    s_score_range = widgets.IntSlider(min=0, max=4, step=1, value=s_score)    \n",
    "    r_score_range = widgets.IntSlider(min=0, max=4, step=1, value=r_score)    \n",
    "\n",
    "    \n",
    "    interdisciplinary_comment = write_df['Comment 2'][write_index]\n",
    "    my_comment = write_df['Comment 4'][write_index]    \n",
    "\n",
    "    interact_manual(update_df, o_text=o_text, o_score=o_score_range, \n",
    "         s_text=s_text, s_score=s_score_range, \n",
    "         r_text=r_text, r_score=r_score_range,\n",
    "         interdisciplinary_comment=interdisciplinary_comment,\n",
    "         my_comment=my_comment,\n",
    "        df=fixed(data), index=fixed(index), write_df=fixed(write_df))\n",
    "\n",
    "\n",
    "    \n",
    "\n",
    "\n",
    "\n",
    "\n",
    "\n",
    "\n",
    "\n",
    "\n"
   ]
  },
  {
   "cell_type": "code",
   "execution_count": null,
   "id": "60b1d03c",
   "metadata": {},
   "outputs": [],
   "source": [
    "index_select = widgets.Dropdown(options=data.index, value=INDEX)\n",
    "interact(update_index, index=index_select, df=fixed(data), write_df=fixed(write_data))"
   ]
  },
  {
   "cell_type": "code",
   "execution_count": null,
   "id": "61e8d780",
   "metadata": {},
   "outputs": [],
   "source": [
    "import numpy as np\n",
    "import matplotlib.pyplot as plt\n",
    "fig, ax = plt.subplots(figsize=(10, 5))\n",
    "write_data.hist(column='Score', grid=False, bins=np.linspace(-0.5, 12.5, 14), width=0.8, ax=ax)\n",
    "_ = ax.set_xticks(np.linspace(0,12,13))"
   ]
  },
  {
   "cell_type": "code",
   "execution_count": null,
   "id": "f69ff8fb",
   "metadata": {},
   "outputs": [],
   "source": [
    "write_data['Score'].count()"
   ]
  },
  {
   "cell_type": "code",
   "execution_count": null,
   "id": "637365f9",
   "metadata": {},
   "outputs": [],
   "source": []
  }
 ],
 "metadata": {
  "kernelspec": {
   "display_name": "Python 3",
   "language": "python",
   "name": "python3"
  },
  "language_info": {
   "codemirror_mode": {
    "name": "ipython",
    "version": 3
   },
   "file_extension": ".py",
   "mimetype": "text/x-python",
   "name": "python",
   "nbconvert_exporter": "python",
   "pygments_lexer": "ipython3",
   "version": "3.8.8"
  }
 },
 "nbformat": 4,
 "nbformat_minor": 5
}
