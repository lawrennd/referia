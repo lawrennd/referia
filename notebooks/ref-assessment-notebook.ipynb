{
 "cells": [
  {
   "cell_type": "markdown",
   "id": "98bf38a3",
   "metadata": {},
   "source": [
    "# REF Assessment Notebook\n",
    "\n",
    "### 31st May 2021\n",
    "\n",
    "### Neil D. Lawrence\n",
    "\n",
    "This notebook is a helper for reviewing ref papers.\n"
   ]
  },
  {
   "cell_type": "code",
   "execution_count": 1,
   "id": "3d81c9b5",
   "metadata": {},
   "outputs": [],
   "source": [
    "import ref"
   ]
  },
  {
   "cell_type": "code",
   "execution_count": 2,
   "id": "3f2a9043",
   "metadata": {},
   "outputs": [],
   "source": [
    "data = ref.assess.data()"
   ]
  },
  {
   "cell_type": "code",
   "execution_count": 3,
   "id": "206995a8",
   "metadata": {},
   "outputs": [],
   "source": [
    "write_data = ref.access.upload()"
   ]
  },
  {
   "cell_type": "code",
   "execution_count": 11,
   "id": "650de7a6",
   "metadata": {},
   "outputs": [],
   "source": [
    "INDEX = 249474"
   ]
  },
  {
   "cell_type": "code",
   "execution_count": 12,
   "id": "a898e7f4",
   "metadata": {},
   "outputs": [
    {
     "data": {
      "application/vnd.jupyter.widget-view+json": {
       "model_id": "7d4880de91064c1dac2a8d87248488da",
       "version_major": 2,
       "version_minor": 0
      },
      "text/plain": [
       "interactive(children=(Dropdown(description='index', index=315, options=(180784, 181010, 181174, 181249, 181327…"
      ]
     },
     "metadata": {},
     "output_type": "display_data"
    }
   ],
   "source": [
    "ref.assess.score(INDEX, data, write_data)"
   ]
  },
  {
   "cell_type": "code",
   "execution_count": 6,
   "id": "61e8d780",
   "metadata": {},
   "outputs": [
    {
     "data": {
      "image/png": "[encoded data removed]",
      "text/plain": [
       "<Figure size 720x360 with 1 Axes>"
      ]
     },
     "metadata": {
      "needs_background": "light"
     },
     "output_type": "display_data"
    }
   ],
   "source": [
    "import numpy as np\n",
    "import matplotlib.pyplot as plt\n",
    "fig, ax = plt.subplots(figsize=(10, 5))\n",
    "write_data.hist(column='Score', grid=False, bins=np.linspace(-0.5, 12.5, 14), width=0.8, ax=ax)\n",
    "_ = ax.set_xticks(np.linspace(0,12,13))"
   ]
  },
  {
   "cell_type": "code",
   "execution_count": 7,
   "id": "f69ff8fb",
   "metadata": {},
   "outputs": [
    {
     "data": {
      "text/plain": [
       "323"
      ]
     },
     "execution_count": 7,
     "metadata": {},
     "output_type": "execute_result"
    }
   ],
   "source": [
    "write_data['Score'].count()"
   ]
  },
  {
   "cell_type": "markdown",
   "id": "694fa2b8",
   "metadata": {},
   "source": [
    "https://refpanelmembers-calibration.azurewebsites.net/members/Spreadsheets"
   ]
  },
  {
   "cell_type": "code",
   "execution_count": 8,
   "id": "8089ee45",
   "metadata": {},
   "outputs": [
    {
     "data": {
      "text/plain": [
       "Timestamp('2021-06-23 10:57:01.271885')"
      ]
     },
     "execution_count": 8,
     "metadata": {},
     "output_type": "execute_result"
    }
   ],
   "source": [
    "import pandas as pd\n",
    "pd.to_datetime('today')"
   ]
  },
  {
   "cell_type": "code",
   "execution_count": 9,
   "id": "637365f9",
   "metadata": {},
   "outputs": [
    {
     "data": {
      "text/plain": [
       "842"
      ]
     },
     "execution_count": 9,
     "metadata": {},
     "output_type": "execute_result"
    }
   ],
   "source": [
    "len(write_data['Score'])"
   ]
  },
  {
   "cell_type": "code",
   "execution_count": 10,
   "id": "c40a419b",
   "metadata": {},
   "outputs": [
    {
     "data": {
      "text/plain": [
       "336.8"
      ]
     },
     "execution_count": 10,
     "metadata": {},
     "output_type": "execute_result"
    }
   ],
   "source": [
    "0.4*842"
   ]
  },
  {
   "cell_type": "code",
   "execution_count": null,
   "id": "65953fe1",
   "metadata": {},
   "outputs": [],
   "source": []
  }
 ],
 "metadata": {
  "kernelspec": {
   "display_name": "Python 3",
   "language": "python",
   "name": "python3"
  },
  "language_info": {
   "codemirror_mode": {
    "name": "ipython",
    "version": 3
   },
   "file_extension": ".py",
   "mimetype": "text/x-python",
   "name": "python",
   "nbconvert_exporter": "python",
   "pygments_lexer": "ipython3",
   "version": "3.8.8"
  }
 },
 "nbformat": 4,
 "nbformat_minor": 5
}
