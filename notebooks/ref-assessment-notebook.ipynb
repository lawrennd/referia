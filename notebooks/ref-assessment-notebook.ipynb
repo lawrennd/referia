{
 "cells": [
  {
   "cell_type": "markdown",
   "id": "98bf38a3",
   "metadata": {},
   "source": [
    "# REF Assessment Notebook\n",
    "\n",
    "### 31st May 2021\n",
    "\n",
    "### Neil D. Lawrence\n",
    "\n",
    "This notebook is a helper for reviewing ref papers.\n"
   ]
  },
  {
   "cell_type": "code",
   "execution_count": null,
   "id": "3d81c9b5",
   "metadata": {},
   "outputs": [],
   "source": [
    "import ref"
   ]
  },
  {
   "cell_type": "code",
   "execution_count": null,
   "id": "3f2a9043",
   "metadata": {},
   "outputs": [],
   "source": [
    "data = ref.assess.data()"
   ]
  },
  {
   "cell_type": "code",
   "execution_count": null,
   "id": "206995a8",
   "metadata": {},
   "outputs": [],
   "source": [
    "write_data = ref.access.upload()"
   ]
  },
  {
   "cell_type": "code",
   "execution_count": null,
   "id": "650de7a6",
   "metadata": {},
   "outputs": [],
   "source": [
    "INDEX = 207591"
   ]
  },
  {
   "cell_type": "code",
   "execution_count": null,
   "id": "25fe83f9",
   "metadata": {},
   "outputs": [],
   "source": [
    "ref.assess.score(INDEX, data, write_data)"
   ]
  },
  {
   "cell_type": "code",
   "execution_count": null,
   "id": "60b1d03c",
   "metadata": {},
   "outputs": [],
   "source": []
  },
  {
   "cell_type": "code",
   "execution_count": null,
   "id": "61e8d780",
   "metadata": {},
   "outputs": [],
   "source": [
    "import numpy as np\n",
    "import matplotlib.pyplot as plt\n",
    "fig, ax = plt.subplots(figsize=(10, 5))\n",
    "write_data.hist(column='Score', grid=False, bins=np.linspace(-0.5, 12.5, 14), width=0.8, ax=ax)\n",
    "_ = ax.set_xticks(np.linspace(0,12,13))"
   ]
  },
  {
   "cell_type": "code",
   "execution_count": null,
   "id": "f69ff8fb",
   "metadata": {},
   "outputs": [],
   "source": [
    "write_data['Score'].count()"
   ]
  },
  {
   "cell_type": "code",
   "execution_count": null,
   "id": "637365f9",
   "metadata": {},
   "outputs": [],
   "source": []
  }
 ],
 "metadata": {
  "kernelspec": {
   "display_name": "Python 3",
   "language": "python",
   "name": "python3"
  },
  "language_info": {
   "codemirror_mode": {
    "name": "ipython",
    "version": 3
   },
   "file_extension": ".py",
   "mimetype": "text/x-python",
   "name": "python",
   "nbconvert_exporter": "python",
   "pygments_lexer": "ipython3",
   "version": "3.8.8"
  }
 },
 "nbformat": 4,
 "nbformat_minor": 5
}
