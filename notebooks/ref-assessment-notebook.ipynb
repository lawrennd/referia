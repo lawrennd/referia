{
 "cells": [
  {
   "cell_type": "markdown",
   "id": "98bf38a3",
   "metadata": {},
   "source": [
    "# REF Assessment Notebook\n",
    "\n",
    "### 31st May 2021\n",
    "\n",
    "### Neil D. Lawrence\n",
    "\n",
    "This notebook is a helper for reviewing ref papers.\n"
   ]
  },
  {
   "cell_type": "code",
   "execution_count": null,
   "id": "3d81c9b5",
   "metadata": {},
   "outputs": [],
   "source": [
    "import ref"
   ]
  },
  {
   "cell_type": "code",
   "execution_count": null,
   "id": "3f2a9043",
   "metadata": {},
   "outputs": [],
   "source": [
    "df = ref.assess.data()"
   ]
  },
  {
   "cell_type": "code",
   "execution_count": null,
   "id": "650de7a6",
   "metadata": {},
   "outputs": [],
   "source": [
    "index = 251931"
   ]
  },
  {
   "cell_type": "code",
   "execution_count": null,
   "id": "65137c4c",
   "metadata": {},
   "outputs": [],
   "source": [
    "from __future__ import print_function\n",
    "from ipywidgets import interact, interactive, fixed, interact_manual\n",
    "import ipywidgets as widgets"
   ]
  },
  {
   "cell_type": "code",
   "execution_count": null,
   "id": "b26bc24d",
   "metadata": {},
   "outputs": [],
   "source": [
    "import pandas as pd"
   ]
  },
  {
   "cell_type": "code",
   "execution_count": null,
   "id": "689ab025",
   "metadata": {},
   "outputs": [],
   "source": [
    "comment = {}\n",
    "score = {}\n",
    "\n",
    "def update_index(df, index):\n",
    "    if index not in df.index:\n",
    "        raise ValueError(\"Invalid index\")\n",
    "    ref.assess.query(df, index)\n",
    "\n",
    "def update_df(df,\n",
    "              o_text, o_score,\n",
    "              s_text, s_score,\n",
    "              r_text, r_score, interdisciplinary_comment, my_comment):\n",
    "    comment = \"{o_text} {o_score} {s_text} {s_score} {r_text} {r_score}\".format(o_text=o_text, o_score=o_score, \n",
    "                                                                                s_text=s_text, s_score=s_score, \n",
    "                                                                                r_text=r_text, r_score=r_score)\n",
    "    score = o_score + s_score + r_score\n",
    "    print(comment)\n",
    "    df.at[index, 'Comment'] = comment\n",
    "    df.at[index, 'Score'] = score\n",
    "    if interdisciplinary_comment is not None:\n",
    "        df.at[index, 'Comment 2'] = interdisciplinary_comment\n",
    "    #if my_comment is not None:\n",
    "    #    df.at[index, 'Comment 4'] = str(my_comment)\n",
    "    print(score)\n",
    "    print(comment)\n",
    "\n",
    "index_select = widgets.Dropdown(options=df.index[df['Interdisciplinary']==\"Yes\"], value=index)\n",
    "interact(update_index, index=index_select, df=fixed(df))\n",
    "\n",
    "o_text = \"O: \"\n",
    "s_text = \"S: \"\n",
    "r_text = \"R: \"\n",
    "o_score = 2\n",
    "s_score = 2\n",
    "r_score = 2\n",
    "\n",
    "import re\n",
    "group = re.match(r'^O:\\s*(.*)\\s*([0-4])\\s*S:\\s*(.*)\\s*([0-4])\\s*R:\\s*(.*)\\s*([0-9])$', df['Comment'][index])\n",
    "if group is not None:\n",
    "    o_text = \"O: \" + group.group(1)\n",
    "    s_text = \"S: \" + group.group(3)\n",
    "    r_text = \"R: \" + group.group(5)\n",
    "    o_score = int(group.group(2))\n",
    "    s_score = int(group.group(4))\n",
    "    r_score = int(group.group(6))\n",
    "    \n",
    "\n",
    "o_score_range = widgets.IntSlider(min=0, max=4, step=1, value=o_score)    \n",
    "s_score_range = widgets.IntSlider(min=0, max=4, step=1, value=s_score)    \n",
    "r_score_range = widgets.IntSlider(min=0, max=4, step=1, value=r_score)    \n",
    "\n",
    "    \n",
    "\n",
    "interdisciplinary_comment = df['Comment 2'][index]\n",
    "_ = interact(update_df, o_text=o_text, o_score=o_score_range, \n",
    "         s_text=s_text, s_score=s_score_range, \n",
    "         r_text=r_text, r_score=r_score_range,\n",
    "         interdisciplinary_comment=\"\",\n",
    "         my_comment=\"\",\n",
    "        df=fixed(df), index=fixed(index))\n",
    "\n",
    "\n",
    "\n",
    "\n",
    "\n"
   ]
  },
  {
   "cell_type": "code",
   "execution_count": null,
   "id": "832c89cb",
   "metadata": {},
   "outputs": [],
   "source": [
    "group"
   ]
  },
  {
   "cell_type": "code",
   "execution_count": null,
   "id": "4c1f4270",
   "metadata": {},
   "outputs": [],
   "source": [
    "group.group(5)"
   ]
  },
  {
   "cell_type": "code",
   "execution_count": null,
   "id": "e0f17c5a",
   "metadata": {},
   "outputs": [],
   "source": [
    "widgets.Dropdown?"
   ]
  },
  {
   "cell_type": "code",
   "execution_count": null,
   "id": "4021d0a7",
   "metadata": {},
   "outputs": [],
   "source": [
    "df.loc[index]['Comment']"
   ]
  },
  {
   "cell_type": "code",
   "execution_count": null,
   "id": "484c5bb6",
   "metadata": {},
   "outputs": [],
   "source": [
    "ref.assess.view(df)"
   ]
  },
  {
   "cell_type": "code",
   "execution_count": null,
   "id": "f11dbc8d",
   "metadata": {},
   "outputs": [],
   "source": [
    "df['Comment 2']"
   ]
  },
  {
   "cell_type": "code",
   "execution_count": null,
   "id": "655b126f",
   "metadata": {},
   "outputs": [],
   "source": []
  },
  {
   "cell_type": "code",
   "execution_count": null,
   "id": "af9facbf",
   "metadata": {},
   "outputs": [],
   "source": [
    "ref.assess.query(df, index)"
   ]
  }
 ],
 "metadata": {
  "kernelspec": {
   "display_name": "Python 3",
   "language": "python",
   "name": "python3"
  },
  "language_info": {
   "codemirror_mode": {
    "name": "ipython",
    "version": 3
   },
   "file_extension": ".py",
   "mimetype": "text/x-python",
   "name": "python",
   "nbconvert_exporter": "python",
   "pygments_lexer": "ipython3",
   "version": "3.8.8"
  }
 },
 "nbformat": 4,
 "nbformat_minor": 5
}
