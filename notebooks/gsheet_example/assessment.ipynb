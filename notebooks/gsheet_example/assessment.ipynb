{
 "cells": [
  {
   "cell_type": "markdown",
   "id": "98bf38a3",
   "metadata": {},
   "source": [
    "# Google Sheets Assessment Example\n",
    "\n",
    "### 7th January 2022\n",
    "\n",
    "### Neil D. Lawrence\n",
    "\n",
    "This notebook is for demonstrating how the referia assessment system works with Google Sheets.\n"
   ]
  },
  {
   "cell_type": "code",
   "execution_count": null,
   "id": "3d81c9b5",
   "metadata": {},
   "outputs": [],
   "source": [
    "import referia as rf"
   ]
  },
  {
   "cell_type": "code",
   "execution_count": null,
   "id": "f3e8cbbe",
   "metadata": {},
   "outputs": [],
   "source": [
    "rf.display.expand_cell()"
   ]
  },
  {
   "cell_type": "markdown",
   "id": "a4142b01",
   "metadata": {},
   "source": [
    "The software makes use of `gspread_pandas` for loading in the google sheet. To access you google sheet you will need credentials. \n",
    "\n",
    "First you need to create a set of OAuth client ID credentials. You can do this as a desktop app. Instructions are here: <https://developers.google.com/workspace/guides/create-credentials>\n",
    "\n",
    "1. Log in to your google account.\n",
    "2. Open the [Google Cloud Console](https://console.cloud.google.com/).\n",
    "3. At the top-left, click Menu > APIs & Services > Credentials.\n",
    "4. Click Create Credentials > OAuth client ID.\n",
    "5. Click Application type > Desktop app.\n",
    "6. In the \"Name\" field, type a name for the credential. This name is only shown in the Cloud Console.\n",
    "7. Click Create. The OAuth client created screen appears, showing your new Client ID and Client secret. Download the associated `json` file and save it, for example as `google_secret.json`\n",
    "8. Click OK. The newly created credential appears under \"OAuth 2.0 Client IDs.\"\n",
    "9. Open the file `_referia.yml` and add the information about where the credentials are stored, for example, you'll see the entry currently contains.\n",
    "\n",
    "```yaml\n",
    "google_oauth: \n",
    "    keyfile: google_secret.json\n",
    "    directory: $HOME/.config/gspread_pandas/\n",
    "```\n",
    "\n",
    "\n"
   ]
  },
  {
   "cell_type": "code",
   "execution_count": null,
   "id": "3f2a9043",
   "metadata": {},
   "outputs": [],
   "source": [
    "data = rf.assess.Data()"
   ]
  },
  {
   "cell_type": "code",
   "execution_count": null,
   "id": "16b721d6",
   "metadata": {},
   "outputs": [],
   "source": [
    "index=data.index[0]"
   ]
  },
  {
   "cell_type": "code",
   "execution_count": null,
   "id": "a898e7f4",
   "metadata": {
    "scrolled": false
   },
   "outputs": [],
   "source": [
    "scorer = rf.display.Scorer(index, data)\n",
    "scorer.run()"
   ]
  },
  {
   "cell_type": "markdown",
   "id": "77f61f65",
   "metadata": {},
   "source": [
    "### "
   ]
  }
 ],
 "metadata": {
  "kernelspec": {
   "display_name": "Python 3",
   "language": "python",
   "name": "python3"
  },
  "language_info": {
   "codemirror_mode": {
    "name": "ipython",
    "version": 3
   },
   "file_extension": ".py",
   "mimetype": "text/x-python",
   "name": "python",
   "nbconvert_exporter": "python",
   "pygments_lexer": "ipython3",
   "version": "3.8.8"
  }
 },
 "nbformat": 4,
 "nbformat_minor": 5
}
