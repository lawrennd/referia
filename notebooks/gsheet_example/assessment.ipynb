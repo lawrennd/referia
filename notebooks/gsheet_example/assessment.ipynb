{
 "cells": [
  {
   "cell_type": "markdown",
   "id": "98bf38a3",
   "metadata": {},
   "source": [
    "# Google Sheets Assessment Example\n",
    "\n",
    "### 7th January 2022\n",
    "\n",
    "### Neil D. Lawrence\n",
    "\n",
    "This notebook is for demonstrating how the referia assessment system works with Google Sheets.\n"
   ]
  },
  {
   "cell_type": "markdown",
   "id": "a45dfab9",
   "metadata": {},
   "source": [
    "The software makes use of `gspread_pandas` for loading in the google sheet. "
   ]
  },
  {
   "cell_type": "code",
   "execution_count": 1,
   "id": "189b9ad7",
   "metadata": {},
   "outputs": [
    {
     "name": "stdout",
     "output_type": "stream",
     "text": [
      "Requirement already satisfied: gspread_pandas in /Users/neil/opt/anaconda3/lib/python3.9/site-packages (3.2.2)\n",
      "Requirement already satisfied: google-auth-oauthlib in /Users/neil/opt/anaconda3/lib/python3.9/site-packages (from gspread_pandas) (0.5.2)\n",
      "Requirement already satisfied: google-auth in /Users/neil/opt/anaconda3/lib/python3.9/site-packages (from gspread_pandas) (2.11.0)\n",
      "Requirement already satisfied: pandas>=0.20.0 in /Users/neil/opt/anaconda3/lib/python3.9/site-packages (from gspread_pandas) (1.4.2)\n",
      "Requirement already satisfied: gspread>=5.0.0 in /Users/neil/opt/anaconda3/lib/python3.9/site-packages (from gspread_pandas) (5.5.0)\n",
      "Requirement already satisfied: decorator in /Users/neil/opt/anaconda3/lib/python3.9/site-packages (from gspread_pandas) (5.1.1)\n",
      "Requirement already satisfied: six>=1.9.0 in /Users/neil/opt/anaconda3/lib/python3.9/site-packages (from google-auth->gspread_pandas) (1.16.0)\n",
      "Requirement already satisfied: rsa<5,>=3.1.4 in /Users/neil/opt/anaconda3/lib/python3.9/site-packages (from google-auth->gspread_pandas) (4.9)\n",
      "Requirement already satisfied: cachetools<6.0,>=2.0.0 in /Users/neil/opt/anaconda3/lib/python3.9/site-packages (from google-auth->gspread_pandas) (5.2.0)\n",
      "Requirement already satisfied: pyasn1-modules>=0.2.1 in /Users/neil/opt/anaconda3/lib/python3.9/site-packages (from google-auth->gspread_pandas) (0.2.8)\n",
      "Requirement already satisfied: requests-oauthlib>=0.7.0 in /Users/neil/opt/anaconda3/lib/python3.9/site-packages (from google-auth-oauthlib->gspread_pandas) (1.3.1)\n",
      "Requirement already satisfied: python-dateutil>=2.8.1 in /Users/neil/opt/anaconda3/lib/python3.9/site-packages (from pandas>=0.20.0->gspread_pandas) (2.8.2)\n",
      "Requirement already satisfied: pytz>=2020.1 in /Users/neil/opt/anaconda3/lib/python3.9/site-packages (from pandas>=0.20.0->gspread_pandas) (2021.3)\n",
      "Requirement already satisfied: numpy>=1.20.0 in /Users/neil/opt/anaconda3/lib/python3.9/site-packages (from pandas>=0.20.0->gspread_pandas) (1.21.5)\n",
      "Requirement already satisfied: pyasn1<0.5.0,>=0.4.6 in /Users/neil/opt/anaconda3/lib/python3.9/site-packages (from pyasn1-modules>=0.2.1->google-auth->gspread_pandas) (0.4.8)\n",
      "Requirement already satisfied: oauthlib>=3.0.0 in /Users/neil/opt/anaconda3/lib/python3.9/site-packages (from requests-oauthlib>=0.7.0->google-auth-oauthlib->gspread_pandas) (3.2.1)\n",
      "Requirement already satisfied: requests>=2.0.0 in /Users/neil/opt/anaconda3/lib/python3.9/site-packages (from requests-oauthlib>=0.7.0->google-auth-oauthlib->gspread_pandas) (2.27.1)\n",
      "Requirement already satisfied: urllib3<1.27,>=1.21.1 in /Users/neil/opt/anaconda3/lib/python3.9/site-packages (from requests>=2.0.0->requests-oauthlib>=0.7.0->google-auth-oauthlib->gspread_pandas) (1.26.9)\n",
      "Requirement already satisfied: certifi>=2017.4.17 in /Users/neil/opt/anaconda3/lib/python3.9/site-packages (from requests>=2.0.0->requests-oauthlib>=0.7.0->google-auth-oauthlib->gspread_pandas) (2022.5.18.1)\n",
      "Requirement already satisfied: charset-normalizer~=2.0.0 in /Users/neil/opt/anaconda3/lib/python3.9/site-packages (from requests>=2.0.0->requests-oauthlib>=0.7.0->google-auth-oauthlib->gspread_pandas) (2.0.4)\n",
      "Requirement already satisfied: idna<4,>=2.5 in /Users/neil/opt/anaconda3/lib/python3.9/site-packages (from requests>=2.0.0->requests-oauthlib>=0.7.0->google-auth-oauthlib->gspread_pandas) (3.3)\n",
      "Note: you may need to restart the kernel to use updated packages.\n"
     ]
    }
   ],
   "source": [
    "%pip install gspread_pandas"
   ]
  },
  {
   "cell_type": "code",
   "execution_count": 1,
   "id": "3d81c9b5",
   "metadata": {},
   "outputs": [],
   "source": [
    "import referia as rf"
   ]
  },
  {
   "cell_type": "code",
   "execution_count": 2,
   "id": "f3e8cbbe",
   "metadata": {},
   "outputs": [
    {
     "data": {
      "text/html": [
       "\n",
       "<style>\n",
       ".container {\n",
       "    width: 100% !important;\n",
       "}   \n",
       "\n",
       "div.notebook-container {\n",
       "    width: 100% !important;\n",
       "    height: fit-content;\n",
       "}  \n",
       "\n",
       "div.menubar-container {\n",
       "    width: 100% !important;\n",
       "    height: fit-content;\n",
       "}  \n",
       "\n",
       "div.maintoolbar-container {\n",
       "    width: 100% !important;\n",
       "    height: fit-content;\n",
       "}  \n",
       "\n",
       "div.cell.selected {\n",
       "    border-left-width: 1px !important;  \n",
       "}\n",
       "\n",
       "div.output_scroll {\n",
       "    resize: vertical !important;\n",
       "}\n",
       "\n",
       ".output_wrapper .output { \n",
       "    overflow-y: visible; \n",
       "    height: fit-content; \n",
       "}\n",
       "\n",
       "\n",
       ".output_scroll {\n",
       "    box-shadow:none !important;\n",
       "    webkit-box-shadow:none !important;\n",
       "}\n",
       "</style>\n"
      ],
      "text/plain": [
       "<IPython.core.display.HTML object>"
      ]
     },
     "metadata": {},
     "output_type": "display_data"
    }
   ],
   "source": [
    "rf.display.expand_cell()"
   ]
  },
  {
   "cell_type": "markdown",
   "id": "a4142b01",
   "metadata": {},
   "source": [
    "To access you google sheet you will need credentials. \n",
    "\n",
    "First you need to create a set of OAuth client ID credentials. You can do this as a desktop app. Instructions are here: <https://developers.google.com/workspace/guides/create-credentials>\n",
    "\n",
    "1. Log in to your google account.\n",
    "2. Open the [Google Cloud Console](https://console.cloud.google.com/).\n",
    "3. At the top-left, click Menu > APIs & Services > Credentials.\n",
    "4. Click Create Credentials > OAuth client ID.\n",
    "5. Click Application type > Desktop app.\n",
    "6. In the \"Name\" field, type a name for the credential. This name is only shown in the Cloud Console.\n",
    "7. Click Create. The OAuth client created screen appears, showing your new Client ID and Client secret. Download the associated `json` file and save it, for example as `google_secret.json`\n",
    "8. Click OK. The newly created credential appears under \"OAuth 2.0 Client IDs.\"\n",
    "9. Open the file `_referia.yml` and add the information about where the credentials are stored, for example, you'll see the entry currently contains.\n",
    "\n",
    "```yaml\n",
    "google_oauth: \n",
    "    keyfile: google_secret.json\n",
    "    directory: $HOME/.config/gspread_pandas/\n",
    "```"
   ]
  },
  {
   "cell_type": "code",
   "execution_count": 3,
   "id": "3f2a9043",
   "metadata": {},
   "outputs": [
    {
     "ename": "ConfigException",
     "evalue": "(ValueError('Client secrets must be for a web or installed app.'), <traceback object at 0x12fc4df80>)",
     "output_type": "error",
     "traceback": [
      "\u001b[0;31m---------------------------------------------------------------------------\u001b[0m",
      "\u001b[0;31mValueError\u001b[0m                                Traceback (most recent call last)",
      "File \u001b[0;32m~/opt/anaconda3/lib/python3.9/site-packages/gspread_pandas/conf.py:155\u001b[0m, in \u001b[0;36mget_creds\u001b[0;34m(user, config, scope, creds_dir, save)\u001b[0m\n\u001b[1;32m    153\u001b[0m     \u001b[38;5;28;01mreturn\u001b[39;00m OAuthCredentials\u001b[38;5;241m.\u001b[39mfrom_authorized_user_file(\u001b[38;5;28mstr\u001b[39m(creds_file))\n\u001b[0;32m--> 155\u001b[0m flow \u001b[38;5;241m=\u001b[39m \u001b[43mInstalledAppFlow\u001b[49m\u001b[38;5;241;43m.\u001b[39;49m\u001b[43mfrom_client_config\u001b[49m\u001b[43m(\u001b[49m\u001b[43mconfig\u001b[49m\u001b[43m,\u001b[49m\u001b[43m \u001b[49m\u001b[43mscope\u001b[49m\u001b[43m)\u001b[49m\n\u001b[1;32m    156\u001b[0m creds \u001b[38;5;241m=\u001b[39m flow\u001b[38;5;241m.\u001b[39mrun_local_server(\n\u001b[1;32m    157\u001b[0m     host\u001b[38;5;241m=\u001b[39m\u001b[38;5;124m\"\u001b[39m\u001b[38;5;124mlocalhost\u001b[39m\u001b[38;5;124m\"\u001b[39m,\n\u001b[1;32m    158\u001b[0m     port\u001b[38;5;241m=\u001b[39m\u001b[38;5;241m8182\u001b[39m,\n\u001b[0;32m   (...)\u001b[0m\n\u001b[1;32m    161\u001b[0m     open_browser\u001b[38;5;241m=\u001b[39m\u001b[38;5;28;01mFalse\u001b[39;00m,\n\u001b[1;32m    162\u001b[0m )\n",
      "File \u001b[0;32m~/opt/anaconda3/lib/python3.9/site-packages/google_auth_oauthlib/flow.py:165\u001b[0m, in \u001b[0;36mFlow.from_client_config\u001b[0;34m(cls, client_config, scopes, **kwargs)\u001b[0m\n\u001b[1;32m    164\u001b[0m \u001b[38;5;28;01melse\u001b[39;00m:\n\u001b[0;32m--> 165\u001b[0m     \u001b[38;5;28;01mraise\u001b[39;00m \u001b[38;5;167;01mValueError\u001b[39;00m(\u001b[38;5;124m\"\u001b[39m\u001b[38;5;124mClient secrets must be for a web or installed app.\u001b[39m\u001b[38;5;124m\"\u001b[39m)\n\u001b[1;32m    167\u001b[0m \u001b[38;5;66;03m# these args cannot be passed to requests_oauthlib.OAuth2Session\u001b[39;00m\n",
      "\u001b[0;31mValueError\u001b[0m: Client secrets must be for a web or installed app.",
      "\nDuring handling of the above exception, another exception occurred:\n",
      "\u001b[0;31mConfigException\u001b[0m                           Traceback (most recent call last)",
      "Input \u001b[0;32mIn [3]\u001b[0m, in \u001b[0;36m<cell line: 1>\u001b[0;34m()\u001b[0m\n\u001b[0;32m----> 1\u001b[0m data \u001b[38;5;241m=\u001b[39m \u001b[43mrf\u001b[49m\u001b[38;5;241;43m.\u001b[39;49m\u001b[43massess\u001b[49m\u001b[38;5;241;43m.\u001b[39;49m\u001b[43mData\u001b[49m\u001b[43m(\u001b[49m\u001b[43m)\u001b[49m\n",
      "File \u001b[0;32m~/opt/anaconda3/lib/python3.9/site-packages/referia-0.1.0-py3.9.egg/referia/assess.py:51\u001b[0m, in \u001b[0;36mData.__init__\u001b[0;34m(self)\u001b[0m\n\u001b[1;32m     49\u001b[0m \u001b[38;5;28mself\u001b[39m\u001b[38;5;241m.\u001b[39m_subindex \u001b[38;5;241m=\u001b[39m \u001b[38;5;28;01mNone\u001b[39;00m\n\u001b[1;32m     50\u001b[0m \u001b[38;5;28mself\u001b[39m\u001b[38;5;241m.\u001b[39m_subindex_value \u001b[38;5;241m=\u001b[39m \u001b[38;5;241m0\u001b[39m\n\u001b[0;32m---> 51\u001b[0m \u001b[38;5;28;43mself\u001b[39;49m\u001b[38;5;241;43m.\u001b[39;49m\u001b[43mload_flows\u001b[49m\u001b[43m(\u001b[49m\u001b[43m)\u001b[49m\n",
      "File \u001b[0;32m~/opt/anaconda3/lib/python3.9/site-packages/referia-0.1.0-py3.9.egg/referia/assess.py:174\u001b[0m, in \u001b[0;36mData.load_flows\u001b[0;34m(self)\u001b[0m\n\u001b[1;32m    172\u001b[0m \u001b[38;5;28mself\u001b[39m\u001b[38;5;241m.\u001b[39m_writedata \u001b[38;5;241m=\u001b[39m \u001b[38;5;28;01mNone\u001b[39;00m\n\u001b[1;32m    173\u001b[0m \u001b[38;5;28mself\u001b[39m\u001b[38;5;241m.\u001b[39m_writeseries \u001b[38;5;241m=\u001b[39m \u001b[38;5;28;01mNone\u001b[39;00m\n\u001b[0;32m--> 174\u001b[0m \u001b[38;5;28;43mself\u001b[39;49m\u001b[38;5;241;43m.\u001b[39;49m\u001b[43mload_input_flows\u001b[49m\u001b[43m(\u001b[49m\u001b[43m)\u001b[49m\n\u001b[1;32m    175\u001b[0m \u001b[38;5;28mself\u001b[39m\u001b[38;5;241m.\u001b[39mload_output_flows()\n",
      "File \u001b[0;32m~/opt/anaconda3/lib/python3.9/site-packages/referia-0.1.0-py3.9.egg/referia/assess.py:145\u001b[0m, in \u001b[0;36mData.load_input_flows\u001b[0;34m(self)\u001b[0m\n\u001b[1;32m    143\u001b[0m \u001b[38;5;28;01mdef\u001b[39;00m \u001b[38;5;21mload_input_flows\u001b[39m(\u001b[38;5;28mself\u001b[39m):\n\u001b[1;32m    144\u001b[0m     \u001b[38;5;124;03m\"\"\"Load the input flows specified in the _referia.yml file.\"\"\"\u001b[39;00m\n\u001b[0;32m--> 145\u001b[0m     \u001b[38;5;28;43mself\u001b[39;49m\u001b[38;5;241;43m.\u001b[39;49m\u001b[43m_allocation\u001b[49m\u001b[43m(\u001b[49m\u001b[43m)\u001b[49m\n\u001b[1;32m    146\u001b[0m     \u001b[38;5;28;01mif\u001b[39;00m \u001b[38;5;124m\"\u001b[39m\u001b[38;5;124madditional\u001b[39m\u001b[38;5;124m\"\u001b[39m \u001b[38;5;129;01min\u001b[39;00m config:\n\u001b[1;32m    147\u001b[0m         log\u001b[38;5;241m.\u001b[39minfo(\u001b[38;5;124m\"\u001b[39m\u001b[38;5;124mJoining allocation and additional information.\u001b[39m\u001b[38;5;124m\"\u001b[39m)\n",
      "File \u001b[0;32m~/opt/anaconda3/lib/python3.9/site-packages/referia-0.1.0-py3.9.egg/referia/assess.py:74\u001b[0m, in \u001b[0;36mData._allocation\u001b[0;34m(self)\u001b[0m\n\u001b[1;32m     72\u001b[0m \u001b[38;5;28;01mdef\u001b[39;00m \u001b[38;5;21m_allocation\u001b[39m(\u001b[38;5;28mself\u001b[39m):\n\u001b[1;32m     73\u001b[0m     \u001b[38;5;124;03m\"\"\"Load in the allocation spread sheet to data frames.\"\"\"\u001b[39;00m\n\u001b[0;32m---> 74\u001b[0m     df \u001b[38;5;241m=\u001b[39m \u001b[43maccess\u001b[49m\u001b[38;5;241;43m.\u001b[39;49m\u001b[43mallocation\u001b[49m\u001b[43m(\u001b[49m\u001b[43m)\u001b[49m\n\u001b[1;32m     75\u001b[0m     df \u001b[38;5;241m=\u001b[39m \u001b[38;5;28mself\u001b[39m\u001b[38;5;241m.\u001b[39m_finalize_df(df, config[\u001b[38;5;124m\"\u001b[39m\u001b[38;5;124mallocation\u001b[39m\u001b[38;5;124m\"\u001b[39m])\n\u001b[1;32m     76\u001b[0m     \u001b[38;5;28;01mif\u001b[39;00m df\u001b[38;5;241m.\u001b[39mindex\u001b[38;5;241m.\u001b[39mis_unique:\n",
      "File \u001b[0;32m~/opt/anaconda3/lib/python3.9/site-packages/referia-0.1.0-py3.9.egg/referia/access.py:676\u001b[0m, in \u001b[0;36mallocation\u001b[0;34m()\u001b[0m\n\u001b[1;32m    674\u001b[0m \u001b[38;5;28;01mdef\u001b[39;00m \u001b[38;5;21mallocation\u001b[39m():\n\u001b[1;32m    675\u001b[0m     \u001b[38;5;124;03m\"\"\"Load in the allocation spread sheet to data frames.\"\"\"\u001b[39;00m\n\u001b[0;32m--> 676\u001b[0m     \u001b[38;5;28;01mreturn\u001b[39;00m \u001b[43mread_data\u001b[49m\u001b[43m(\u001b[49m\u001b[43mconfig\u001b[49m\u001b[43m[\u001b[49m\u001b[38;5;124;43m\"\u001b[39;49m\u001b[38;5;124;43mallocation\u001b[39;49m\u001b[38;5;124;43m\"\u001b[39;49m\u001b[43m]\u001b[49m\u001b[43m)\u001b[49m\n",
      "File \u001b[0;32m~/opt/anaconda3/lib/python3.9/site-packages/referia-0.1.0-py3.9.egg/referia/access.py:654\u001b[0m, in \u001b[0;36mread_data\u001b[0;34m(details)\u001b[0m\n\u001b[1;32m    652\u001b[0m     df \u001b[38;5;241m=\u001b[39m read_excel(details)\n\u001b[1;32m    653\u001b[0m \u001b[38;5;28;01melif\u001b[39;00m ftype \u001b[38;5;241m==\u001b[39m \u001b[38;5;124m\"\u001b[39m\u001b[38;5;124mgsheet\u001b[39m\u001b[38;5;124m\"\u001b[39m:\n\u001b[0;32m--> 654\u001b[0m     df \u001b[38;5;241m=\u001b[39m \u001b[43mread_gsheet\u001b[49m\u001b[43m(\u001b[49m\u001b[43mdetails\u001b[49m\u001b[43m)\u001b[49m\n\u001b[1;32m    655\u001b[0m \u001b[38;5;28;01melif\u001b[39;00m ftype \u001b[38;5;241m==\u001b[39m \u001b[38;5;124m\"\u001b[39m\u001b[38;5;124myaml\u001b[39m\u001b[38;5;124m\"\u001b[39m:\n\u001b[1;32m    656\u001b[0m     df \u001b[38;5;241m=\u001b[39m read_yaml(details)\n",
      "File \u001b[0;32m~/opt/anaconda3/lib/python3.9/site-packages/referia-0.1.0-py3.9.egg/referia/access.py:426\u001b[0m, in \u001b[0;36mread_gsheet\u001b[0;34m(details)\u001b[0m\n\u001b[1;32m    424\u001b[0m \u001b[38;5;28;01mfor\u001b[39;00m key, val \u001b[38;5;129;01min\u001b[39;00m config[\u001b[38;5;124m\"\u001b[39m\u001b[38;5;124mgoogle_oauth\u001b[39m\u001b[38;5;124m\"\u001b[39m]\u001b[38;5;241m.\u001b[39mitems():\n\u001b[1;32m    425\u001b[0m     gconfig[key] \u001b[38;5;241m=\u001b[39m os\u001b[38;5;241m.\u001b[39mpath\u001b[38;5;241m.\u001b[39mexpandvars(val)\n\u001b[0;32m--> 426\u001b[0m gsheet \u001b[38;5;241m=\u001b[39m \u001b[43mgspd\u001b[49m\u001b[38;5;241;43m.\u001b[39;49m\u001b[43mSpread\u001b[49m\u001b[43m(\u001b[49m\n\u001b[1;32m    427\u001b[0m \u001b[43m    \u001b[49m\u001b[43mspread\u001b[49m\u001b[38;5;241;43m=\u001b[39;49m\u001b[43mfilename\u001b[49m\u001b[43m,\u001b[49m\n\u001b[1;32m    428\u001b[0m \u001b[43m    \u001b[49m\u001b[43msheet\u001b[49m\u001b[38;5;241;43m=\u001b[39;49m\u001b[43msheet\u001b[49m\u001b[43m,\u001b[49m\n\u001b[1;32m    429\u001b[0m \u001b[43m    \u001b[49m\u001b[43mconfig\u001b[49m\u001b[38;5;241;43m=\u001b[39;49m\u001b[43mgconfig\u001b[49m\u001b[43m,\u001b[49m\n\u001b[1;32m    430\u001b[0m \u001b[43m\u001b[49m\u001b[43m)\u001b[49m\n\u001b[1;32m    431\u001b[0m data\u001b[38;5;241m=\u001b[39m gsheet\u001b[38;5;241m.\u001b[39msheet_to_df(\n\u001b[1;32m    432\u001b[0m     index\u001b[38;5;241m=\u001b[39m\u001b[38;5;28;01mNone\u001b[39;00m,\n\u001b[1;32m    433\u001b[0m     header_rows\u001b[38;5;241m=\u001b[39mdetails[\u001b[38;5;124m\"\u001b[39m\u001b[38;5;124mheader\u001b[39m\u001b[38;5;124m\"\u001b[39m]\u001b[38;5;241m+\u001b[39m\u001b[38;5;241m1\u001b[39m,\n\u001b[1;32m    434\u001b[0m     start_row\u001b[38;5;241m=\u001b[39mdetails[\u001b[38;5;124m\"\u001b[39m\u001b[38;5;124mheader\u001b[39m\u001b[38;5;124m\"\u001b[39m]\u001b[38;5;241m+\u001b[39m\u001b[38;5;241m1\u001b[39m,\n\u001b[1;32m    435\u001b[0m )\n\u001b[1;32m    436\u001b[0m \u001b[38;5;28;01mreturn\u001b[39;00m data\n",
      "File \u001b[0;32m~/opt/anaconda3/lib/python3.9/site-packages/gspread_pandas/spread.py:126\u001b[0m, in \u001b[0;36mSpread.__init__\u001b[0;34m(self, spread, sheet, config, create_spread, create_sheet, scope, user, creds, client, permissions)\u001b[0m\n\u001b[1;32m    124\u001b[0m     \u001b[38;5;28mself\u001b[39m\u001b[38;5;241m.\u001b[39mclient \u001b[38;5;241m=\u001b[39m client\n\u001b[1;32m    125\u001b[0m \u001b[38;5;28;01melse\u001b[39;00m:\n\u001b[0;32m--> 126\u001b[0m     \u001b[38;5;28mself\u001b[39m\u001b[38;5;241m.\u001b[39mclient \u001b[38;5;241m=\u001b[39m \u001b[43mClient\u001b[49m\u001b[43m(\u001b[49m\u001b[43muser\u001b[49m\u001b[43m,\u001b[49m\u001b[43m \u001b[49m\u001b[43mconfig\u001b[49m\u001b[43m,\u001b[49m\u001b[43m \u001b[49m\u001b[43mscope\u001b[49m\u001b[43m,\u001b[49m\u001b[43m \u001b[49m\u001b[43mcreds\u001b[49m\u001b[43m)\u001b[49m\n\u001b[1;32m    128\u001b[0m \u001b[38;5;28mself\u001b[39m\u001b[38;5;241m.\u001b[39mopen(spread, sheet, create_sheet, create_spread)\n\u001b[1;32m    130\u001b[0m \u001b[38;5;28;01mif\u001b[39;00m permissions:\n",
      "File \u001b[0;32m~/opt/anaconda3/lib/python3.9/site-packages/gspread_pandas/client.py:85\u001b[0m, in \u001b[0;36mClient.__init__\u001b[0;34m(self, user, config, scope, creds, session, load_dirs)\u001b[0m\n\u001b[1;32m     83\u001b[0m     credentials \u001b[38;5;241m=\u001b[39m convert_credentials(creds)\n\u001b[1;32m     84\u001b[0m \u001b[38;5;28;01melif\u001b[39;00m \u001b[38;5;28misinstance\u001b[39m(user, \u001b[38;5;28mstr\u001b[39m):\n\u001b[0;32m---> 85\u001b[0m     credentials \u001b[38;5;241m=\u001b[39m \u001b[43mget_creds\u001b[49m\u001b[43m(\u001b[49m\u001b[43muser\u001b[49m\u001b[43m,\u001b[49m\u001b[43m \u001b[49m\u001b[43mconfig\u001b[49m\u001b[43m,\u001b[49m\u001b[43m \u001b[49m\u001b[38;5;28;43mself\u001b[39;49m\u001b[38;5;241;43m.\u001b[39;49m\u001b[43mscope\u001b[49m\u001b[43m)\u001b[49m\n\u001b[1;32m     86\u001b[0m \u001b[38;5;28;01melse\u001b[39;00m:\n\u001b[1;32m     87\u001b[0m     \u001b[38;5;28;01mraise\u001b[39;00m \u001b[38;5;167;01mTypeError\u001b[39;00m(\n\u001b[1;32m     88\u001b[0m         \u001b[38;5;124m\"\u001b[39m\u001b[38;5;124mNeed to provide user as a string or credentials as \u001b[39m\u001b[38;5;124m\"\u001b[39m\n\u001b[1;32m     89\u001b[0m         \u001b[38;5;124m\"\u001b[39m\u001b[38;5;124mgoogle.auth.credentials.Credentials\u001b[39m\u001b[38;5;124m\"\u001b[39m\n\u001b[1;32m     90\u001b[0m     )\n",
      "File \u001b[0;32m~/opt/anaconda3/lib/python3.9/site-packages/gspread_pandas/conf.py:179\u001b[0m, in \u001b[0;36mget_creds\u001b[0;34m(user, config, scope, creds_dir, save)\u001b[0m\n\u001b[1;32m    177\u001b[0m \u001b[38;5;28;01mexcept\u001b[39;00m \u001b[38;5;167;01mException\u001b[39;00m:\n\u001b[1;32m    178\u001b[0m     exc_info \u001b[38;5;241m=\u001b[39m sys\u001b[38;5;241m.\u001b[39mexc_info()\n\u001b[0;32m--> 179\u001b[0m     \u001b[38;5;28;01mraise\u001b[39;00m ConfigException(\u001b[38;5;241m*\u001b[39mexc_info[\u001b[38;5;241m1\u001b[39m:])\n",
      "\u001b[0;31mConfigException\u001b[0m: (ValueError('Client secrets must be for a web or installed app.'), <traceback object at 0x12fc4df80>)"
     ]
    }
   ],
   "source": [
    "data = rf.assess.Data()"
   ]
  },
  {
   "cell_type": "code",
   "execution_count": null,
   "id": "5876f8b4",
   "metadata": {},
   "outputs": [
    {
     "name": "stdout",
     "output_type": "stream",
     "text": [
      "> \u001b[0;32m/Users/neil/opt/anaconda3/lib/python3.9/site-packages/gspread_pandas/conf.py\u001b[0m(179)\u001b[0;36mget_creds\u001b[0;34m()\u001b[0m\n",
      "\u001b[0;32m    175 \u001b[0;31m\u001b[0;34m\u001b[0m\u001b[0m\n",
      "\u001b[0m\u001b[0;32m    176 \u001b[0;31m        \u001b[0;32mreturn\u001b[0m \u001b[0mcreds\u001b[0m\u001b[0;34m\u001b[0m\u001b[0;34m\u001b[0m\u001b[0m\n",
      "\u001b[0m\u001b[0;32m    177 \u001b[0;31m    \u001b[0;32mexcept\u001b[0m \u001b[0mException\u001b[0m\u001b[0;34m:\u001b[0m\u001b[0;34m\u001b[0m\u001b[0;34m\u001b[0m\u001b[0m\n",
      "\u001b[0m\u001b[0;32m    178 \u001b[0;31m        \u001b[0mexc_info\u001b[0m \u001b[0;34m=\u001b[0m \u001b[0msys\u001b[0m\u001b[0;34m.\u001b[0m\u001b[0mexc_info\u001b[0m\u001b[0;34m(\u001b[0m\u001b[0;34m)\u001b[0m\u001b[0;34m\u001b[0m\u001b[0;34m\u001b[0m\u001b[0m\n",
      "\u001b[0m\u001b[0;32m--> 179 \u001b[0;31m        \u001b[0;32mraise\u001b[0m \u001b[0mConfigException\u001b[0m\u001b[0;34m(\u001b[0m\u001b[0;34m*\u001b[0m\u001b[0mexc_info\u001b[0m\u001b[0;34m[\u001b[0m\u001b[0;36m1\u001b[0m\u001b[0;34m:\u001b[0m\u001b[0;34m]\u001b[0m\u001b[0;34m)\u001b[0m\u001b[0;34m\u001b[0m\u001b[0;34m\u001b[0m\u001b[0m\n",
      "\u001b[0m\n",
      "ipdb> up\n",
      "> \u001b[0;32m/Users/neil/opt/anaconda3/lib/python3.9/site-packages/gspread_pandas/client.py\u001b[0m(85)\u001b[0;36m__init__\u001b[0;34m()\u001b[0m\n",
      "\u001b[0;32m     83 \u001b[0;31m                \u001b[0mcredentials\u001b[0m \u001b[0;34m=\u001b[0m \u001b[0mconvert_credentials\u001b[0m\u001b[0;34m(\u001b[0m\u001b[0mcreds\u001b[0m\u001b[0;34m)\u001b[0m\u001b[0;34m\u001b[0m\u001b[0;34m\u001b[0m\u001b[0m\n",
      "\u001b[0m\u001b[0;32m     84 \u001b[0;31m            \u001b[0;32melif\u001b[0m \u001b[0misinstance\u001b[0m\u001b[0;34m(\u001b[0m\u001b[0muser\u001b[0m\u001b[0;34m,\u001b[0m \u001b[0mstr\u001b[0m\u001b[0;34m)\u001b[0m\u001b[0;34m:\u001b[0m\u001b[0;34m\u001b[0m\u001b[0;34m\u001b[0m\u001b[0m\n",
      "\u001b[0m\u001b[0;32m---> 85 \u001b[0;31m                \u001b[0mcredentials\u001b[0m \u001b[0;34m=\u001b[0m \u001b[0mget_creds\u001b[0m\u001b[0;34m(\u001b[0m\u001b[0muser\u001b[0m\u001b[0;34m,\u001b[0m \u001b[0mconfig\u001b[0m\u001b[0;34m,\u001b[0m \u001b[0mself\u001b[0m\u001b[0;34m.\u001b[0m\u001b[0mscope\u001b[0m\u001b[0;34m)\u001b[0m\u001b[0;34m\u001b[0m\u001b[0;34m\u001b[0m\u001b[0m\n",
      "\u001b[0m\u001b[0;32m     86 \u001b[0;31m            \u001b[0;32melse\u001b[0m\u001b[0;34m:\u001b[0m\u001b[0;34m\u001b[0m\u001b[0;34m\u001b[0m\u001b[0m\n",
      "\u001b[0m\u001b[0;32m     87 \u001b[0;31m                raise TypeError(\n",
      "\u001b[0m\n",
      "ipdb> config\n",
      "{'keyfile': 'google_secret.json', 'directory': '/Users/neil/.config/google_oauth/'}\n",
      "ipdb> self.scope\n",
      "['openid', 'https://www.googleapis.com/auth/drive', 'https://www.googleapis.com/auth/userinfo.email', 'https://www.googleapis.com/auth/spreadsheets']\n"
     ]
    }
   ],
   "source": [
    "%debu"
   ]
  },
  {
   "cell_type": "code",
   "execution_count": null,
   "id": "16b721d6",
   "metadata": {},
   "outputs": [],
   "source": [
    "index=data.index[0]"
   ]
  },
  {
   "cell_type": "code",
   "execution_count": null,
   "id": "a898e7f4",
   "metadata": {
    "scrolled": false
   },
   "outputs": [],
   "source": [
    "scorer = rf.display.Scorer(index, data)\n",
    "scorer.run()"
   ]
  },
  {
   "cell_type": "markdown",
   "id": "77f61f65",
   "metadata": {},
   "source": [
    "### "
   ]
  }
 ],
 "metadata": {
  "kernelspec": {
   "display_name": "Python 3 (ipykernel)",
   "language": "python",
   "name": "python3"
  },
  "language_info": {
   "codemirror_mode": {
    "name": "ipython",
    "version": 3
   },
   "file_extension": ".py",
   "mimetype": "text/x-python",
   "name": "python",
   "nbconvert_exporter": "python",
   "pygments_lexer": "ipython3",
   "version": "3.9.12"
  }
 },
 "nbformat": 4,
 "nbformat_minor": 5
}
