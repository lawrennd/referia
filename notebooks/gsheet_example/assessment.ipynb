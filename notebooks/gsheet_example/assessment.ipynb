{
 "cells": [
  {
   "cell_type": "markdown",
   "id": "98bf38a3",
   "metadata": {},
   "source": [
    "# Google Sheets Assessment Example\n",
    "\n",
    "### 7th January 2022\n",
    "\n",
    "### Neil D. Lawrence\n",
    "\n",
    "This notebook is for demonstrating how the referia assessment system works with Google Sheets.\n"
   ]
  },
  {
   "cell_type": "code",
   "execution_count": 1,
   "id": "3d81c9b5",
   "metadata": {},
   "outputs": [],
   "source": [
    "import referia as rf"
   ]
  },
  {
   "cell_type": "code",
   "execution_count": 2,
   "id": "f3e8cbbe",
   "metadata": {},
   "outputs": [
    {
     "data": {
      "text/html": [
       "\n",
       "<style>\n",
       ".container {\n",
       "    width: 100% !important;\n",
       "}   \n",
       "\n",
       "div.notebook-container {\n",
       "    width: 100% !important;\n",
       "    height: fit-content;\n",
       "}  \n",
       "\n",
       "div.menubar-container {\n",
       "    width: 100% !important;\n",
       "    height: fit-content;\n",
       "}  \n",
       "\n",
       "div.maintoolbar-container {\n",
       "    width: 100% !important;\n",
       "    height: fit-content;\n",
       "}  \n",
       "\n",
       "div.cell.selected {\n",
       "    border-left-width: 1px !important;  \n",
       "}\n",
       "\n",
       "div.output_scroll {\n",
       "    resize: vertical !important;\n",
       "}\n",
       "\n",
       ".output_wrapper .output { \n",
       "    overflow-y: visible; \n",
       "    height: fit-content; \n",
       "}\n",
       "\n",
       "\n",
       ".output_scroll {\n",
       "    box-shadow:none !important;\n",
       "    webkit-box-shadow:none !important;\n",
       "}\n",
       "</style>\n"
      ],
      "text/plain": [
       "<IPython.core.display.HTML object>"
      ]
     },
     "metadata": {},
     "output_type": "display_data"
    }
   ],
   "source": [
    "rf.display.expand_cell()"
   ]
  },
  {
   "cell_type": "markdown",
   "id": "a4142b01",
   "metadata": {},
   "source": [
    "The software makes use of `gspread_pandas` for loading in the google sheet. To access you google sheet you will need credentials. \n",
    "\n",
    "First you need to create a set of OAuth client ID credentials. You can do this as a desktop app. Instructions are here: <https://developers.google.com/workspace/guides/create-credentials>\n",
    "\n",
    "1. Log in to your google account.\n",
    "2. Open the [Google Cloud Console](https://console.cloud.google.com/).\n",
    "3. At the top-left, click Menu > APIs & Services > Credentials.\n",
    "4. Click Create Credentials > OAuth client ID.\n",
    "5. Click Application type > Desktop app.\n",
    "6. In the \"Name\" field, type a name for the credential. This name is only shown in the Cloud Console.\n",
    "7. Click Create. The OAuth client created screen appears, showing your new Client ID and Client secret. Download the associated `json` file and save it, for example as `google_secret.json`\n",
    "8. Click OK. The newly created credential appears under \"OAuth 2.0 Client IDs.\"\n",
    "9. Open the file `_referia.yml` and add the information about where the credentials are stored, for example, you'll see the entry currently contains.\n",
    "\n",
    "```yaml\n",
    "google_oauth: \n",
    "    keyfile: google_secret.json\n",
    "    directory: $HOME/.config/gspread_pandas/\n",
    "```\n",
    "\n",
    "\n"
   ]
  },
  {
   "cell_type": "code",
   "execution_count": 3,
   "id": "3f2a9043",
   "metadata": {},
   "outputs": [
    {
     "ename": "NameError",
     "evalue": "name 'read_gsheet' is not defined",
     "output_type": "error",
     "traceback": [
      "\u001b[0;31m---------------------------------------------------------------------------\u001b[0m",
      "\u001b[0;31mNameError\u001b[0m                                 Traceback (most recent call last)",
      "\u001b[0;32m<ipython-input-3-27add7b45027>\u001b[0m in \u001b[0;36m<module>\u001b[0;34m\u001b[0m\n\u001b[0;32m----> 1\u001b[0;31m \u001b[0mrf\u001b[0m\u001b[0;34m.\u001b[0m\u001b[0massess\u001b[0m\u001b[0;34m.\u001b[0m\u001b[0mload_data\u001b[0m\u001b[0;34m(\u001b[0m\u001b[0;34m)\u001b[0m\u001b[0;34m\u001b[0m\u001b[0;34m\u001b[0m\u001b[0m\n\u001b[0m",
      "\u001b[0;32m~/opt/anaconda3/lib/python3.8/site-packages/referia-0.1.0-py3.8.egg/referia/assess.py\u001b[0m in \u001b[0;36mload_data\u001b[0;34m()\u001b[0m\n\u001b[1;32m     49\u001b[0m     \u001b[0;32mglobal\u001b[0m \u001b[0mDATA\u001b[0m\u001b[0;34m\u001b[0m\u001b[0;34m\u001b[0m\u001b[0m\n\u001b[1;32m     50\u001b[0m     \u001b[0;32mglobal\u001b[0m \u001b[0mWRITEDATA\u001b[0m\u001b[0;34m\u001b[0m\u001b[0;34m\u001b[0m\u001b[0m\n\u001b[0;32m---> 51\u001b[0;31m     \u001b[0mDATA\u001b[0m \u001b[0;34m=\u001b[0m \u001b[0maccess\u001b[0m\u001b[0;34m.\u001b[0m\u001b[0mallocation\u001b[0m\u001b[0;34m(\u001b[0m\u001b[0;34m)\u001b[0m\u001b[0;34m\u001b[0m\u001b[0;34m\u001b[0m\u001b[0m\n\u001b[0m\u001b[1;32m     52\u001b[0m     \u001b[0;32mif\u001b[0m \u001b[0;34m\"additional\"\u001b[0m \u001b[0;32min\u001b[0m \u001b[0mconfig\u001b[0m\u001b[0;34m:\u001b[0m\u001b[0;34m\u001b[0m\u001b[0;34m\u001b[0m\u001b[0m\n\u001b[1;32m     53\u001b[0m         \u001b[0madditional\u001b[0m \u001b[0;34m=\u001b[0m \u001b[0maccess\u001b[0m\u001b[0;34m.\u001b[0m\u001b[0madditional\u001b[0m\u001b[0;34m(\u001b[0m\u001b[0;34m)\u001b[0m\u001b[0;34m\u001b[0m\u001b[0;34m\u001b[0m\u001b[0m\n",
      "\u001b[0;32m~/opt/anaconda3/lib/python3.8/site-packages/referia-0.1.0-py3.8.egg/referia/access.py\u001b[0m in \u001b[0;36mallocation\u001b[0;34m()\u001b[0m\n\u001b[1;32m    332\u001b[0m \u001b[0;32mdef\u001b[0m \u001b[0mallocation\u001b[0m\u001b[0;34m(\u001b[0m\u001b[0;34m)\u001b[0m\u001b[0;34m:\u001b[0m\u001b[0;34m\u001b[0m\u001b[0;34m\u001b[0m\u001b[0m\n\u001b[1;32m    333\u001b[0m     \u001b[0;34m\"\"\"Load in the allocation spread sheet to data frames.\"\"\"\u001b[0m\u001b[0;34m\u001b[0m\u001b[0;34m\u001b[0m\u001b[0m\n\u001b[0;32m--> 334\u001b[0;31m     \u001b[0;32mreturn\u001b[0m \u001b[0mread_data\u001b[0m\u001b[0;34m(\u001b[0m\u001b[0mconfig\u001b[0m\u001b[0;34m[\u001b[0m\u001b[0;34m\"allocation\"\u001b[0m\u001b[0;34m]\u001b[0m\u001b[0;34m)\u001b[0m\u001b[0;34m\u001b[0m\u001b[0;34m\u001b[0m\u001b[0m\n\u001b[0m\u001b[1;32m    335\u001b[0m \u001b[0;34m\u001b[0m\u001b[0m\n\u001b[1;32m    336\u001b[0m \u001b[0;34m\u001b[0m\u001b[0m\n",
      "\u001b[0;32m~/opt/anaconda3/lib/python3.8/site-packages/referia-0.1.0-py3.8.egg/referia/access.py\u001b[0m in \u001b[0;36mread_data\u001b[0;34m(details)\u001b[0m\n\u001b[1;32m    255\u001b[0m         \u001b[0mdf\u001b[0m \u001b[0;34m=\u001b[0m \u001b[0mread_excel\u001b[0m\u001b[0;34m(\u001b[0m\u001b[0mdetails\u001b[0m\u001b[0;34m)\u001b[0m\u001b[0;34m\u001b[0m\u001b[0;34m\u001b[0m\u001b[0m\n\u001b[1;32m    256\u001b[0m     \u001b[0;32melif\u001b[0m \u001b[0mdetails\u001b[0m\u001b[0;34m[\u001b[0m\u001b[0;34m\"type\"\u001b[0m\u001b[0;34m]\u001b[0m \u001b[0;34m==\u001b[0m \u001b[0;34m\"gsheet\"\u001b[0m\u001b[0;34m:\u001b[0m\u001b[0;34m\u001b[0m\u001b[0;34m\u001b[0m\u001b[0m\n\u001b[0;32m--> 257\u001b[0;31m         \u001b[0mdf\u001b[0m \u001b[0;34m=\u001b[0m \u001b[0mread_gsheet\u001b[0m\u001b[0;34m(\u001b[0m\u001b[0mdetails\u001b[0m\u001b[0;34m)\u001b[0m\u001b[0;34m\u001b[0m\u001b[0;34m\u001b[0m\u001b[0m\n\u001b[0m\u001b[1;32m    258\u001b[0m     \u001b[0;32melif\u001b[0m \u001b[0mdetails\u001b[0m\u001b[0;34m[\u001b[0m\u001b[0;34m\"type\"\u001b[0m\u001b[0;34m]\u001b[0m \u001b[0;34m==\u001b[0m \u001b[0;34m\"yaml\"\u001b[0m\u001b[0;34m:\u001b[0m\u001b[0;34m\u001b[0m\u001b[0;34m\u001b[0m\u001b[0m\n\u001b[1;32m    259\u001b[0m         \u001b[0mdf\u001b[0m \u001b[0;34m=\u001b[0m \u001b[0mread_yaml\u001b[0m\u001b[0;34m(\u001b[0m\u001b[0mdetails\u001b[0m\u001b[0;34m)\u001b[0m\u001b[0;34m\u001b[0m\u001b[0;34m\u001b[0m\u001b[0m\n",
      "\u001b[0;31mNameError\u001b[0m: name 'read_gsheet' is not defined"
     ]
    }
   ],
   "source": [
    "rf.assess.load_data()"
   ]
  },
  {
   "cell_type": "code",
   "execution_count": null,
   "id": "16b721d6",
   "metadata": {},
   "outputs": [],
   "source": [
    "INDEX=rf.assess.DATA.index[0]"
   ]
  },
  {
   "cell_type": "code",
   "execution_count": null,
   "id": "a898e7f4",
   "metadata": {
    "scrolled": false
   },
   "outputs": [],
   "source": [
    "rf.assess.score(INDEX)"
   ]
  },
  {
   "cell_type": "markdown",
   "id": "77f61f65",
   "metadata": {},
   "source": [
    "### "
   ]
  }
 ],
 "metadata": {
  "kernelspec": {
   "display_name": "Python 3",
   "language": "python",
   "name": "python3"
  },
  "language_info": {
   "codemirror_mode": {
    "name": "ipython",
    "version": 3
   },
   "file_extension": ".py",
   "mimetype": "text/x-python",
   "name": "python",
   "nbconvert_exporter": "python",
   "pygments_lexer": "ipython3",
   "version": "3.8.8"
  }
 },
 "nbformat": 4,
 "nbformat_minor": 5
}
