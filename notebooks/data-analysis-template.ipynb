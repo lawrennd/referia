{
 "cells": [
  {
   "cell_type": "markdown",
   "id": "98bf38a3",
   "metadata": {},
   "source": [
    "# Data Analysis Template\n",
    "\n",
    "### 31st May 2021\n",
    "\n",
    "### Neil D. Lawrence\n",
    "\n",
    "This notebook serves as a stub for the data analysis template.\n"
   ]
  },
  {
   "cell_type": "code",
   "execution_count": 1,
   "id": "3d81c9b5",
   "metadata": {},
   "outputs": [
    {
     "name": "stdout",
     "output_type": "stream",
     "text": [
      "Found existing installation: danalysis 0.1.0\n",
      "Uninstalling danalysis-0.1.0:\n",
      "  Successfully uninstalled danalysis-0.1.0\n",
      "Note: you may need to restart the kernel to use updated packages.\n",
      "Collecting git+https://github.com/lawrennd/analysis_template.git\n",
      "  Cloning https://github.com/lawrennd/analysis_template.git to /private/var/folders/hc/ybj3wk9922lgf1fgxhw62xjm0000gn/T/pip-req-build-03fm3rhe\n",
      "  Running command git clone -q https://github.com/lawrennd/analysis_template.git /private/var/folders/hc/ybj3wk9922lgf1fgxhw62xjm0000gn/T/pip-req-build-03fm3rhe\n",
      "Requirement already satisfied: pandas in /Users/neil/opt/anaconda3/lib/python3.8/site-packages (from danalysis==0.1.0) (1.2.4)\n",
      "Requirement already satisfied: numpy in /Users/neil/opt/anaconda3/lib/python3.8/site-packages (from danalysis==0.1.0) (1.20.1)\n",
      "Requirement already satisfied: jupyter in /Users/neil/opt/anaconda3/lib/python3.8/site-packages (from danalysis==0.1.0) (1.0.0)\n",
      "Requirement already satisfied: matplotlib in /Users/neil/opt/anaconda3/lib/python3.8/site-packages (from danalysis==0.1.0) (3.3.4)\n",
      "Requirement already satisfied: jupyter-console in /Users/neil/opt/anaconda3/lib/python3.8/site-packages (from jupyter->danalysis==0.1.0) (6.4.0)\n",
      "Requirement already satisfied: qtconsole in /Users/neil/opt/anaconda3/lib/python3.8/site-packages (from jupyter->danalysis==0.1.0) (5.0.3)\n",
      "Requirement already satisfied: ipywidgets in /Users/neil/opt/anaconda3/lib/python3.8/site-packages (from jupyter->danalysis==0.1.0) (7.6.3)\n",
      "Requirement already satisfied: nbconvert in /Users/neil/opt/anaconda3/lib/python3.8/site-packages (from jupyter->danalysis==0.1.0) (6.0.7)\n",
      "Requirement already satisfied: notebook in /Users/neil/opt/anaconda3/lib/python3.8/site-packages (from jupyter->danalysis==0.1.0) (6.3.0)\n",
      "Requirement already satisfied: ipykernel in /Users/neil/opt/anaconda3/lib/python3.8/site-packages (from jupyter->danalysis==0.1.0) (5.3.4)\n",
      "Requirement already satisfied: jupyter-client in /Users/neil/opt/anaconda3/lib/python3.8/site-packages (from ipykernel->jupyter->danalysis==0.1.0) (6.1.12)\n",
      "Requirement already satisfied: traitlets>=4.1.0 in /Users/neil/opt/anaconda3/lib/python3.8/site-packages (from ipykernel->jupyter->danalysis==0.1.0) (5.0.5)\n",
      "Requirement already satisfied: appnope in /Users/neil/opt/anaconda3/lib/python3.8/site-packages (from ipykernel->jupyter->danalysis==0.1.0) (0.1.2)\n",
      "Requirement already satisfied: ipython>=5.0.0 in /Users/neil/opt/anaconda3/lib/python3.8/site-packages (from ipykernel->jupyter->danalysis==0.1.0) (7.22.0)\n",
      "Requirement already satisfied: tornado>=4.2 in /Users/neil/opt/anaconda3/lib/python3.8/site-packages (from ipykernel->jupyter->danalysis==0.1.0) (6.1)\n",
      "Requirement already satisfied: pygments in /Users/neil/opt/anaconda3/lib/python3.8/site-packages (from ipython>=5.0.0->ipykernel->jupyter->danalysis==0.1.0) (2.8.1)\n",
      "Requirement already satisfied: backcall in /Users/neil/opt/anaconda3/lib/python3.8/site-packages (from ipython>=5.0.0->ipykernel->jupyter->danalysis==0.1.0) (0.2.0)\n",
      "Requirement already satisfied: jedi>=0.16 in /Users/neil/opt/anaconda3/lib/python3.8/site-packages (from ipython>=5.0.0->ipykernel->jupyter->danalysis==0.1.0) (0.17.2)\n",
      "Requirement already satisfied: decorator in /Users/neil/opt/anaconda3/lib/python3.8/site-packages (from ipython>=5.0.0->ipykernel->jupyter->danalysis==0.1.0) (5.0.6)\n",
      "Requirement already satisfied: setuptools>=18.5 in /Users/neil/opt/anaconda3/lib/python3.8/site-packages (from ipython>=5.0.0->ipykernel->jupyter->danalysis==0.1.0) (52.0.0.post20210125)\n",
      "Requirement already satisfied: pexpect>4.3 in /Users/neil/opt/anaconda3/lib/python3.8/site-packages (from ipython>=5.0.0->ipykernel->jupyter->danalysis==0.1.0) (4.8.0)\n",
      "Requirement already satisfied: pickleshare in /Users/neil/opt/anaconda3/lib/python3.8/site-packages (from ipython>=5.0.0->ipykernel->jupyter->danalysis==0.1.0) (0.7.5)\n",
      "Requirement already satisfied: prompt-toolkit!=3.0.0,!=3.0.1,<3.1.0,>=2.0.0 in /Users/neil/opt/anaconda3/lib/python3.8/site-packages (from ipython>=5.0.0->ipykernel->jupyter->danalysis==0.1.0) (3.0.17)\n",
      "Requirement already satisfied: parso<0.8.0,>=0.7.0 in /Users/neil/opt/anaconda3/lib/python3.8/site-packages (from jedi>=0.16->ipython>=5.0.0->ipykernel->jupyter->danalysis==0.1.0) (0.7.0)\n",
      "Requirement already satisfied: ptyprocess>=0.5 in /Users/neil/opt/anaconda3/lib/python3.8/site-packages (from pexpect>4.3->ipython>=5.0.0->ipykernel->jupyter->danalysis==0.1.0) (0.7.0)\n",
      "Requirement already satisfied: wcwidth in /Users/neil/opt/anaconda3/lib/python3.8/site-packages (from prompt-toolkit!=3.0.0,!=3.0.1,<3.1.0,>=2.0.0->ipython>=5.0.0->ipykernel->jupyter->danalysis==0.1.0) (0.2.5)\n",
      "Requirement already satisfied: ipython-genutils in /Users/neil/opt/anaconda3/lib/python3.8/site-packages (from traitlets>=4.1.0->ipykernel->jupyter->danalysis==0.1.0) (0.2.0)\n",
      "Requirement already satisfied: widgetsnbextension~=3.5.0 in /Users/neil/opt/anaconda3/lib/python3.8/site-packages (from ipywidgets->jupyter->danalysis==0.1.0) (3.5.1)\n",
      "Requirement already satisfied: nbformat>=4.2.0 in /Users/neil/opt/anaconda3/lib/python3.8/site-packages (from ipywidgets->jupyter->danalysis==0.1.0) (5.1.3)\n",
      "Requirement already satisfied: jupyterlab-widgets>=1.0.0 in /Users/neil/opt/anaconda3/lib/python3.8/site-packages (from ipywidgets->jupyter->danalysis==0.1.0) (1.0.0)\n",
      "Requirement already satisfied: jsonschema!=2.5.0,>=2.4 in /Users/neil/opt/anaconda3/lib/python3.8/site-packages (from nbformat>=4.2.0->ipywidgets->jupyter->danalysis==0.1.0) (3.2.0)\n",
      "Requirement already satisfied: jupyter-core in /Users/neil/opt/anaconda3/lib/python3.8/site-packages (from nbformat>=4.2.0->ipywidgets->jupyter->danalysis==0.1.0) (4.7.1)\n",
      "Requirement already satisfied: six>=1.11.0 in /Users/neil/opt/anaconda3/lib/python3.8/site-packages (from jsonschema!=2.5.0,>=2.4->nbformat>=4.2.0->ipywidgets->jupyter->danalysis==0.1.0) (1.15.0)\n",
      "Requirement already satisfied: pyrsistent>=0.14.0 in /Users/neil/opt/anaconda3/lib/python3.8/site-packages (from jsonschema!=2.5.0,>=2.4->nbformat>=4.2.0->ipywidgets->jupyter->danalysis==0.1.0) (0.17.3)\n",
      "Requirement already satisfied: attrs>=17.4.0 in /Users/neil/opt/anaconda3/lib/python3.8/site-packages (from jsonschema!=2.5.0,>=2.4->nbformat>=4.2.0->ipywidgets->jupyter->danalysis==0.1.0) (20.3.0)\n",
      "Requirement already satisfied: jinja2 in /Users/neil/opt/anaconda3/lib/python3.8/site-packages (from notebook->jupyter->danalysis==0.1.0) (2.11.3)\n",
      "Requirement already satisfied: argon2-cffi in /Users/neil/opt/anaconda3/lib/python3.8/site-packages (from notebook->jupyter->danalysis==0.1.0) (20.1.0)\n",
      "Requirement already satisfied: Send2Trash>=1.5.0 in /Users/neil/opt/anaconda3/lib/python3.8/site-packages (from notebook->jupyter->danalysis==0.1.0) (1.5.0)\n",
      "Requirement already satisfied: terminado>=0.8.3 in /Users/neil/opt/anaconda3/lib/python3.8/site-packages (from notebook->jupyter->danalysis==0.1.0) (0.9.4)\n",
      "Requirement already satisfied: prometheus-client in /Users/neil/opt/anaconda3/lib/python3.8/site-packages (from notebook->jupyter->danalysis==0.1.0) (0.10.1)\n",
      "Requirement already satisfied: pyzmq>=17 in /Users/neil/opt/anaconda3/lib/python3.8/site-packages (from notebook->jupyter->danalysis==0.1.0) (20.0.0)\n",
      "Requirement already satisfied: python-dateutil>=2.1 in /Users/neil/opt/anaconda3/lib/python3.8/site-packages (from jupyter-client->ipykernel->jupyter->danalysis==0.1.0) (2.8.1)\n",
      "Requirement already satisfied: cffi>=1.0.0 in /Users/neil/opt/anaconda3/lib/python3.8/site-packages (from argon2-cffi->notebook->jupyter->danalysis==0.1.0) (1.14.5)\n",
      "Requirement already satisfied: pycparser in /Users/neil/opt/anaconda3/lib/python3.8/site-packages (from cffi>=1.0.0->argon2-cffi->notebook->jupyter->danalysis==0.1.0) (2.20)\n",
      "Requirement already satisfied: MarkupSafe>=0.23 in /Users/neil/opt/anaconda3/lib/python3.8/site-packages (from jinja2->notebook->jupyter->danalysis==0.1.0) (1.1.1)\n",
      "Requirement already satisfied: cycler>=0.10 in /Users/neil/opt/anaconda3/lib/python3.8/site-packages (from matplotlib->danalysis==0.1.0) (0.10.0)\n",
      "Requirement already satisfied: pyparsing!=2.0.4,!=2.1.2,!=2.1.6,>=2.0.3 in /Users/neil/opt/anaconda3/lib/python3.8/site-packages (from matplotlib->danalysis==0.1.0) (2.4.7)\n",
      "Requirement already satisfied: pillow>=6.2.0 in /Users/neil/opt/anaconda3/lib/python3.8/site-packages (from matplotlib->danalysis==0.1.0) (8.2.0)\n",
      "Requirement already satisfied: kiwisolver>=1.0.1 in /Users/neil/opt/anaconda3/lib/python3.8/site-packages (from matplotlib->danalysis==0.1.0) (1.3.1)\n",
      "Requirement already satisfied: entrypoints>=0.2.2 in /Users/neil/opt/anaconda3/lib/python3.8/site-packages (from nbconvert->jupyter->danalysis==0.1.0) (0.3)\n"
     ]
    },
    {
     "name": "stdout",
     "output_type": "stream",
     "text": [
      "Requirement already satisfied: nbclient<0.6.0,>=0.5.0 in /Users/neil/opt/anaconda3/lib/python3.8/site-packages (from nbconvert->jupyter->danalysis==0.1.0) (0.5.3)\n",
      "Requirement already satisfied: pandocfilters>=1.4.1 in /Users/neil/opt/anaconda3/lib/python3.8/site-packages (from nbconvert->jupyter->danalysis==0.1.0) (1.4.3)\n",
      "Requirement already satisfied: testpath in /Users/neil/opt/anaconda3/lib/python3.8/site-packages (from nbconvert->jupyter->danalysis==0.1.0) (0.4.4)\n",
      "Requirement already satisfied: jupyterlab-pygments in /Users/neil/opt/anaconda3/lib/python3.8/site-packages (from nbconvert->jupyter->danalysis==0.1.0) (0.1.2)\n",
      "Requirement already satisfied: bleach in /Users/neil/opt/anaconda3/lib/python3.8/site-packages (from nbconvert->jupyter->danalysis==0.1.0) (3.3.0)\n",
      "Requirement already satisfied: mistune<2,>=0.8.1 in /Users/neil/opt/anaconda3/lib/python3.8/site-packages (from nbconvert->jupyter->danalysis==0.1.0) (0.8.4)\n",
      "Requirement already satisfied: defusedxml in /Users/neil/opt/anaconda3/lib/python3.8/site-packages (from nbconvert->jupyter->danalysis==0.1.0) (0.7.1)\n",
      "Requirement already satisfied: async-generator in /Users/neil/opt/anaconda3/lib/python3.8/site-packages (from nbclient<0.6.0,>=0.5.0->nbconvert->jupyter->danalysis==0.1.0) (1.10)\n",
      "Requirement already satisfied: nest-asyncio in /Users/neil/opt/anaconda3/lib/python3.8/site-packages (from nbclient<0.6.0,>=0.5.0->nbconvert->jupyter->danalysis==0.1.0) (1.5.1)\n",
      "Requirement already satisfied: packaging in /Users/neil/opt/anaconda3/lib/python3.8/site-packages (from bleach->nbconvert->jupyter->danalysis==0.1.0) (20.9)\n",
      "Requirement already satisfied: webencodings in /Users/neil/opt/anaconda3/lib/python3.8/site-packages (from bleach->nbconvert->jupyter->danalysis==0.1.0) (0.5.1)\n",
      "Requirement already satisfied: pytz>=2017.3 in /Users/neil/opt/anaconda3/lib/python3.8/site-packages (from pandas->danalysis==0.1.0) (2021.1)\n",
      "Requirement already satisfied: qtpy in /Users/neil/opt/anaconda3/lib/python3.8/site-packages (from qtconsole->jupyter->danalysis==0.1.0) (1.9.0)\n",
      "Building wheels for collected packages: danalysis\n",
      "  Building wheel for danalysis (setup.py) ... \u001b[?25ldone\n",
      "\u001b[?25h  Created wheel for danalysis: filename=danalysis-0.1.0-py3-none-any.whl size=3671 sha256=21076dbbe3a2ccb9b2d24ce549a58c960c72c87ca7abdc414fa8427610ed9427\n",
      "  Stored in directory: /private/var/folders/hc/ybj3wk9922lgf1fgxhw62xjm0000gn/T/pip-ephem-wheel-cache-r_4xqzhk/wheels/f7/73/e3/9869731b054a0a47d2e3a93b67f099bce54137597741ce3dc1\n",
      "Successfully built danalysis\n",
      "Installing collected packages: danalysis\n",
      "Successfully installed danalysis-0.1.0\n",
      "Note: you may need to restart the kernel to use updated packages.\n"
     ]
    }
   ],
   "source": [
    "%pip uninstall --yes danalysis\n",
    "%pip install git+https://github.com/lawrennd/analysis_template.git\n"
   ]
  },
  {
   "cell_type": "code",
   "execution_count": 2,
   "id": "3f2a9043",
   "metadata": {},
   "outputs": [],
   "source": [
    "import danalysis"
   ]
  },
  {
   "cell_type": "code",
   "execution_count": 4,
   "id": "af9facbf",
   "metadata": {},
   "outputs": [
    {
     "data": {
      "text/plain": [
       "'https://raw.githubusercontent.com/lawrennd/datasets_mirror/main/'"
      ]
     },
     "execution_count": 4,
     "metadata": {},
     "output_type": "execute_result"
    }
   ],
   "source": [
    "danalysis.access.config['data_url']"
   ]
  },
  {
   "cell_type": "code",
   "execution_count": null,
   "id": "215174ff",
   "metadata": {},
   "outputs": [],
   "source": []
  }
 ],
 "metadata": {
  "kernelspec": {
   "display_name": "Python 3",
   "language": "python",
   "name": "python3"
  },
  "language_info": {
   "codemirror_mode": {
    "name": "ipython",
    "version": 3
   },
   "file_extension": ".py",
   "mimetype": "text/x-python",
   "name": "python",
   "nbconvert_exporter": "python",
   "pygments_lexer": "ipython3",
   "version": "3.8.8"
  }
 },
 "nbformat": 4,
 "nbformat_minor": 5
}
