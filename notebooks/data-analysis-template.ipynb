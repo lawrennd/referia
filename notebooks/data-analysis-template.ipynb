{
 "cells": [
  {
   "cell_type": "markdown",
   "id": "98bf38a3",
   "metadata": {},
   "source": [
    "# REF Assessment Notebook\n",
    "\n",
    "### 31st May 2021\n",
    "\n",
    "### Neil D. Lawrence\n",
    "\n",
    "This notebook is a helper for reviewing ref papers.\n"
   ]
  },
  {
   "cell_type": "code",
   "execution_count": 1,
   "id": "3d81c9b5",
   "metadata": {},
   "outputs": [],
   "source": [
    "import ref"
   ]
  },
  {
   "cell_type": "code",
   "execution_count": 2,
   "id": "3f2a9043",
   "metadata": {},
   "outputs": [],
   "source": [
    "df = ref.assess.data()"
   ]
  },
  {
   "cell_type": "code",
   "execution_count": 3,
   "id": "af9facbf",
   "metadata": {},
   "outputs": [
    {
     "data": {
      "text/markdown": [
       "\n",
       "### **Interdisciplinary**: Measuring the signal-to-noise ratio of a neuron\n",
       "\n",
       "PROCEEDINGS OF THE NATIONAL ACADEMY OF SCIENCES OF THE UNITED STATES OF AMERICA\n",
       "\n",
       "### 2015, 18.0\n",
       "    \n",
       "Through research funded by Liverpool Hospital (salary to Czanner), US National Institutes of Health and a Pioneer Award (to Brown), this work, for the first time, proposes SNR in biological systems based on Kullback-Leibler divergence. Most researchers use sum-of-squares SNR that assumes normal distribution and independence on confounders. In collaboration with Harvard and MIT, this work brought a principled theoretical approach to derive SNR for non-normal data, linking it to key concepts of statistics and information theory, validation in simulated data and real neural data from four experiments. This led to an MIT-funded, invited talk at the ENB symposium 2017.\n"
      ],
      "text/plain": [
       "<IPython.core.display.Markdown object>"
      ]
     },
     "metadata": {},
     "output_type": "display_data"
    }
   ],
   "source": [
    "ref.assess.query(df, 230808)"
   ]
  },
  {
   "cell_type": "code",
   "execution_count": 8,
   "id": "215174ff",
   "metadata": {},
   "outputs": [
    {
     "data": {
      "text/plain": [
       "<AxesSubplot:>"
      ]
     },
     "execution_count": 8,
     "metadata": {},
     "output_type": "execute_result"
    },
    {
     "data": {
      "image/png": "[encoded data removed]",
      "text/plain": [
       "<Figure size 432x288 with 1 Axes>"
      ]
     },
     "metadata": {
      "needs_background": "light"
     },
     "output_type": "display_data"
    }
   ],
   "source": [
    "df['Score'].hist(bins=12)"
   ]
  },
  {
   "cell_type": "code",
   "execution_count": 14,
   "id": "d21f89c5",
   "metadata": {},
   "outputs": [
    {
     "data": {
      "text/plain": [
       "array([[<AxesSubplot:title={'center':'Score'}>]], dtype=object)"
      ]
     },
     "execution_count": 14,
     "metadata": {},
     "output_type": "execute_result"
    },
    {
     "data": {
      "image/png": "[encoded data removed]",
      "text/plain": [
       "<Figure size 432x288 with 1 Axes>"
      ]
     },
     "metadata": {
      "needs_background": "light"
     },
     "output_type": "display_data"
    }
   ],
   "source": [
    "import numpy as np\n",
    "df.hist('Score', bins=np.linspace(-.5, 12.5, 14), width=0.8)"
   ]
  },
  {
   "cell_type": "code",
   "execution_count": 11,
   "id": "6a934c58",
   "metadata": {},
   "outputs": [
    {
     "name": "stdout",
     "output_type": "stream",
     "text": [
      "Object `pd.DatFrame.hist` not found.\n"
     ]
    }
   ],
   "source": [
    "import pandas as pd\n",
    "pd.DatFrame.hist?"
   ]
  },
  {
   "cell_type": "code",
   "execution_count": null,
   "id": "61ee8181",
   "metadata": {},
   "outputs": [],
   "source": [
    "df['Score'].hist"
   ]
  },
  {
   "cell_type": "code",
   "execution_count": null,
   "id": "f1517c66",
   "metadata": {},
   "outputs": [],
   "source": []
  }
 ],
 "metadata": {
  "kernelspec": {
   "display_name": "Python 3",
   "language": "python",
   "name": "python3"
  },
  "language_info": {
   "codemirror_mode": {
    "name": "ipython",
    "version": 3
   },
   "file_extension": ".py",
   "mimetype": "text/x-python",
   "name": "python",
   "nbconvert_exporter": "python",
   "pygments_lexer": "ipython3",
   "version": "3.8.8"
  }
 },
 "nbformat": 4,
 "nbformat_minor": 5
}
